{
 "cells": [
  {
   "cell_type": "code",
   "execution_count": 4,
   "id": "3becac95",
   "metadata": {},
   "outputs": [
    {
     "name": "stdout",
     "output_type": "stream",
     "text": [
      "The secure password is charmingchair3,\n"
     ]
    }
   ],
   "source": [
    "import random\n",
    "adjective_list=['beautiful','charming','gentle','perfect','fantastic']\n",
    "noun_list=['table','chair','home','office','town']\n",
    "num_list=list(range(0,100))\n",
    "punc_list=[',','.',':',';','?']\n",
    "\n",
    "adj=random.choice(adjective_list)\n",
    "noun=random.choice(noun_list)\n",
    "num=str(random.choice(num_list))\n",
    "punc=random.choice(punc_list)\n",
    "\n",
    "password=adj+noun+num+punc\n",
    "print(\"The secure password is\", password)\n",
    "           \n"
   ]
  },
  {
   "cell_type": "code",
   "execution_count": null,
   "id": "6400941a",
   "metadata": {},
   "outputs": [],
   "source": []
  }
 ],
 "metadata": {
  "kernelspec": {
   "display_name": "Python 3",
   "language": "python",
   "name": "python3"
  },
  "language_info": {
   "codemirror_mode": {
    "name": "ipython",
    "version": 3
   },
   "file_extension": ".py",
   "mimetype": "text/x-python",
   "name": "python",
   "nbconvert_exporter": "python",
   "pygments_lexer": "ipython3",
   "version": "3.8.8"
  }
 },
 "nbformat": 4,
 "nbformat_minor": 5
}
