{
 "cells": [
  {
   "cell_type": "markdown",
   "id": "7e65890c",
   "metadata": {},
   "source": [
    "## 1) Data Collection"
   ]
  },
  {
   "cell_type": "code",
   "execution_count": 1,
   "id": "8600064c",
   "metadata": {},
   "outputs": [],
   "source": [
    "# Import the libraries\n",
    "import numpy as np\n",
    "import pandas as pd\n",
    "import matplotlib.pyplot as plt\n",
    "import seaborn as sns\n",
    "import scipy.stats as stat\n",
    "import warnings\n",
    "warnings.filterwarnings('ignore')"
   ]
  },
  {
   "cell_type": "code",
   "execution_count": 2,
   "id": "9472abcd",
   "metadata": {},
   "outputs": [
    {
     "data": {
      "text/html": [
       "<div>\n",
       "<style scoped>\n",
       "    .dataframe tbody tr th:only-of-type {\n",
       "        vertical-align: middle;\n",
       "    }\n",
       "\n",
       "    .dataframe tbody tr th {\n",
       "        vertical-align: top;\n",
       "    }\n",
       "\n",
       "    .dataframe thead th {\n",
       "        text-align: right;\n",
       "    }\n",
       "</style>\n",
       "<table border=\"1\" class=\"dataframe\">\n",
       "  <thead>\n",
       "    <tr style=\"text-align: right;\">\n",
       "      <th></th>\n",
       "      <th>fema_declaration_string</th>\n",
       "      <th>disaster_number</th>\n",
       "      <th>state</th>\n",
       "      <th>declaration_type</th>\n",
       "      <th>declaration_date</th>\n",
       "      <th>fy_declared</th>\n",
       "      <th>incident_type</th>\n",
       "      <th>declaration_title</th>\n",
       "      <th>ih_program_declared</th>\n",
       "      <th>ia_program_declared</th>\n",
       "      <th>...</th>\n",
       "      <th>incident_begin_date</th>\n",
       "      <th>incident_end_date</th>\n",
       "      <th>disaster_closeout_date</th>\n",
       "      <th>fips</th>\n",
       "      <th>place_code</th>\n",
       "      <th>designated_area</th>\n",
       "      <th>declaration_request_number</th>\n",
       "      <th>hash</th>\n",
       "      <th>last_refresh</th>\n",
       "      <th>id</th>\n",
       "    </tr>\n",
       "  </thead>\n",
       "  <tbody>\n",
       "    <tr>\n",
       "      <th>0</th>\n",
       "      <td>DR-1-GA</td>\n",
       "      <td>1</td>\n",
       "      <td>GA</td>\n",
       "      <td>DR</td>\n",
       "      <td>1953-05-02T00:00:00Z</td>\n",
       "      <td>1953</td>\n",
       "      <td>Tornado</td>\n",
       "      <td>Tornado</td>\n",
       "      <td>0</td>\n",
       "      <td>1</td>\n",
       "      <td>...</td>\n",
       "      <td>1953-05-02T00:00:00Z</td>\n",
       "      <td>1953-05-02T00:00:00Z</td>\n",
       "      <td>1954-06-01T00:00:00Z</td>\n",
       "      <td>13000</td>\n",
       "      <td>0</td>\n",
       "      <td>Statewide</td>\n",
       "      <td>53013</td>\n",
       "      <td>bb121323c9c29d3bef0c9a3f134bfd8b5ecff148</td>\n",
       "      <td>2021-07-13T23:01:19Z</td>\n",
       "      <td>60c3b7a9a0ee349d71025780</td>\n",
       "    </tr>\n",
       "    <tr>\n",
       "      <th>1</th>\n",
       "      <td>DR-2-TX</td>\n",
       "      <td>2</td>\n",
       "      <td>TX</td>\n",
       "      <td>DR</td>\n",
       "      <td>1953-05-15T00:00:00Z</td>\n",
       "      <td>1953</td>\n",
       "      <td>Tornado</td>\n",
       "      <td>Tornado &amp; Heavy Rainfall</td>\n",
       "      <td>0</td>\n",
       "      <td>1</td>\n",
       "      <td>...</td>\n",
       "      <td>1953-05-15T00:00:00Z</td>\n",
       "      <td>1953-05-15T00:00:00Z</td>\n",
       "      <td>1958-01-01T00:00:00Z</td>\n",
       "      <td>48000</td>\n",
       "      <td>0</td>\n",
       "      <td>Statewide</td>\n",
       "      <td>53003</td>\n",
       "      <td>c879557e78d059e6847e7688388c339d10f51979</td>\n",
       "      <td>2021-07-13T23:01:19Z</td>\n",
       "      <td>60c3b7a9a0ee349d71025783</td>\n",
       "    </tr>\n",
       "    <tr>\n",
       "      <th>2</th>\n",
       "      <td>DR-3-LA</td>\n",
       "      <td>3</td>\n",
       "      <td>LA</td>\n",
       "      <td>DR</td>\n",
       "      <td>1953-05-29T00:00:00Z</td>\n",
       "      <td>1953</td>\n",
       "      <td>Flood</td>\n",
       "      <td>Flood</td>\n",
       "      <td>0</td>\n",
       "      <td>1</td>\n",
       "      <td>...</td>\n",
       "      <td>1953-05-29T00:00:00Z</td>\n",
       "      <td>1953-05-29T00:00:00Z</td>\n",
       "      <td>1960-02-01T00:00:00Z</td>\n",
       "      <td>22000</td>\n",
       "      <td>0</td>\n",
       "      <td>Statewide</td>\n",
       "      <td>53005</td>\n",
       "      <td>4fb19699fdbba1387ffa2263fcc4a4e37a1de6d6</td>\n",
       "      <td>2021-07-13T23:01:19Z</td>\n",
       "      <td>60c3b7a9a0ee349d71025777</td>\n",
       "    </tr>\n",
       "    <tr>\n",
       "      <th>3</th>\n",
       "      <td>DR-4-MI</td>\n",
       "      <td>4</td>\n",
       "      <td>MI</td>\n",
       "      <td>DR</td>\n",
       "      <td>1953-06-02T00:00:00Z</td>\n",
       "      <td>1953</td>\n",
       "      <td>Tornado</td>\n",
       "      <td>Tornado</td>\n",
       "      <td>0</td>\n",
       "      <td>1</td>\n",
       "      <td>...</td>\n",
       "      <td>1953-06-02T00:00:00Z</td>\n",
       "      <td>1953-06-02T00:00:00Z</td>\n",
       "      <td>1956-02-01T00:00:00Z</td>\n",
       "      <td>26000</td>\n",
       "      <td>0</td>\n",
       "      <td>Statewide</td>\n",
       "      <td>53004</td>\n",
       "      <td>87a0c1dd5da249767f545e0c0a43f917e4e9ca83</td>\n",
       "      <td>2021-07-13T23:01:19Z</td>\n",
       "      <td>60c3b7a9a0ee349d7102577a</td>\n",
       "    </tr>\n",
       "    <tr>\n",
       "      <th>4</th>\n",
       "      <td>DR-5-MT</td>\n",
       "      <td>5</td>\n",
       "      <td>MT</td>\n",
       "      <td>DR</td>\n",
       "      <td>1953-06-06T00:00:00Z</td>\n",
       "      <td>1953</td>\n",
       "      <td>Flood</td>\n",
       "      <td>Floods</td>\n",
       "      <td>0</td>\n",
       "      <td>1</td>\n",
       "      <td>...</td>\n",
       "      <td>1953-06-06T00:00:00Z</td>\n",
       "      <td>1953-06-06T00:00:00Z</td>\n",
       "      <td>1955-12-01T00:00:00Z</td>\n",
       "      <td>30000</td>\n",
       "      <td>0</td>\n",
       "      <td>Statewide</td>\n",
       "      <td>53006</td>\n",
       "      <td>954449c15634fb45c8bea3ac975782793ccde050</td>\n",
       "      <td>2021-07-13T23:01:19Z</td>\n",
       "      <td>60c3b7a9a0ee349d71025774</td>\n",
       "    </tr>\n",
       "  </tbody>\n",
       "</table>\n",
       "<p>5 rows × 22 columns</p>\n",
       "</div>"
      ],
      "text/plain": [
       "  fema_declaration_string  disaster_number state declaration_type  \\\n",
       "0                 DR-1-GA                1    GA               DR   \n",
       "1                 DR-2-TX                2    TX               DR   \n",
       "2                 DR-3-LA                3    LA               DR   \n",
       "3                 DR-4-MI                4    MI               DR   \n",
       "4                 DR-5-MT                5    MT               DR   \n",
       "\n",
       "       declaration_date  fy_declared incident_type         declaration_title  \\\n",
       "0  1953-05-02T00:00:00Z         1953       Tornado                   Tornado   \n",
       "1  1953-05-15T00:00:00Z         1953       Tornado  Tornado & Heavy Rainfall   \n",
       "2  1953-05-29T00:00:00Z         1953         Flood                     Flood   \n",
       "3  1953-06-02T00:00:00Z         1953       Tornado                   Tornado   \n",
       "4  1953-06-06T00:00:00Z         1953         Flood                    Floods   \n",
       "\n",
       "   ih_program_declared  ia_program_declared  ...   incident_begin_date  \\\n",
       "0                    0                    1  ...  1953-05-02T00:00:00Z   \n",
       "1                    0                    1  ...  1953-05-15T00:00:00Z   \n",
       "2                    0                    1  ...  1953-05-29T00:00:00Z   \n",
       "3                    0                    1  ...  1953-06-02T00:00:00Z   \n",
       "4                    0                    1  ...  1953-06-06T00:00:00Z   \n",
       "\n",
       "      incident_end_date disaster_closeout_date   fips place_code  \\\n",
       "0  1953-05-02T00:00:00Z   1954-06-01T00:00:00Z  13000          0   \n",
       "1  1953-05-15T00:00:00Z   1958-01-01T00:00:00Z  48000          0   \n",
       "2  1953-05-29T00:00:00Z   1960-02-01T00:00:00Z  22000          0   \n",
       "3  1953-06-02T00:00:00Z   1956-02-01T00:00:00Z  26000          0   \n",
       "4  1953-06-06T00:00:00Z   1955-12-01T00:00:00Z  30000          0   \n",
       "\n",
       "   designated_area  declaration_request_number  \\\n",
       "0        Statewide                       53013   \n",
       "1        Statewide                       53003   \n",
       "2        Statewide                       53005   \n",
       "3        Statewide                       53004   \n",
       "4        Statewide                       53006   \n",
       "\n",
       "                                       hash          last_refresh  \\\n",
       "0  bb121323c9c29d3bef0c9a3f134bfd8b5ecff148  2021-07-13T23:01:19Z   \n",
       "1  c879557e78d059e6847e7688388c339d10f51979  2021-07-13T23:01:19Z   \n",
       "2  4fb19699fdbba1387ffa2263fcc4a4e37a1de6d6  2021-07-13T23:01:19Z   \n",
       "3  87a0c1dd5da249767f545e0c0a43f917e4e9ca83  2021-07-13T23:01:19Z   \n",
       "4  954449c15634fb45c8bea3ac975782793ccde050  2021-07-13T23:01:19Z   \n",
       "\n",
       "                         id  \n",
       "0  60c3b7a9a0ee349d71025780  \n",
       "1  60c3b7a9a0ee349d71025783  \n",
       "2  60c3b7a9a0ee349d71025777  \n",
       "3  60c3b7a9a0ee349d7102577a  \n",
       "4  60c3b7a9a0ee349d71025774  \n",
       "\n",
       "[5 rows x 22 columns]"
      ]
     },
     "execution_count": 2,
     "metadata": {},
     "output_type": "execute_result"
    }
   ],
   "source": [
    "df=pd.read_csv('USdisaster.csv')\n",
    "df.head()"
   ]
  },
  {
   "cell_type": "code",
   "execution_count": 3,
   "id": "cb3ea12c",
   "metadata": {},
   "outputs": [
    {
     "data": {
      "text/plain": [
       "(62771, 22)"
      ]
     },
     "execution_count": 3,
     "metadata": {},
     "output_type": "execute_result"
    }
   ],
   "source": [
    "df.shape"
   ]
  },
  {
   "cell_type": "code",
   "execution_count": 4,
   "id": "282f83de",
   "metadata": {},
   "outputs": [
    {
     "name": "stdout",
     "output_type": "stream",
     "text": [
      "<class 'pandas.core.frame.DataFrame'>\n",
      "RangeIndex: 62771 entries, 0 to 62770\n",
      "Data columns (total 22 columns):\n",
      " #   Column                      Non-Null Count  Dtype \n",
      "---  ------                      --------------  ----- \n",
      " 0   fema_declaration_string     62771 non-null  object\n",
      " 1   disaster_number             62771 non-null  int64 \n",
      " 2   state                       62771 non-null  object\n",
      " 3   declaration_type            62771 non-null  object\n",
      " 4   declaration_date            62771 non-null  object\n",
      " 5   fy_declared                 62771 non-null  int64 \n",
      " 6   incident_type               62771 non-null  object\n",
      " 7   declaration_title           62771 non-null  object\n",
      " 8   ih_program_declared         62771 non-null  int64 \n",
      " 9   ia_program_declared         62771 non-null  int64 \n",
      " 10  pa_program_declared         62771 non-null  int64 \n",
      " 11  hm_program_declared         62771 non-null  int64 \n",
      " 12  incident_begin_date         62771 non-null  object\n",
      " 13  incident_end_date           54433 non-null  object\n",
      " 14  disaster_closeout_date      47452 non-null  object\n",
      " 15  fips                        62771 non-null  int64 \n",
      " 16  place_code                  62771 non-null  int64 \n",
      " 17  designated_area             62771 non-null  object\n",
      " 18  declaration_request_number  62771 non-null  int64 \n",
      " 19  hash                        62771 non-null  object\n",
      " 20  last_refresh                62771 non-null  object\n",
      " 21  id                          62771 non-null  object\n",
      "dtypes: int64(9), object(13)\n",
      "memory usage: 10.5+ MB\n"
     ]
    }
   ],
   "source": [
    "df.info()"
   ]
  },
  {
   "cell_type": "code",
   "execution_count": 5,
   "id": "309ea185",
   "metadata": {},
   "outputs": [
    {
     "name": "stdout",
     "output_type": "stream",
     "text": [
      "fema_declaration_string 4632\n",
      "disaster_number 4632\n",
      "state 59\n",
      "declaration_type 3\n",
      "declaration_date 3978\n",
      "fy_declared 70\n",
      "incident_type 23\n",
      "declaration_title 2189\n",
      "ih_program_declared 2\n",
      "ia_program_declared 2\n",
      "pa_program_declared 2\n",
      "hm_program_declared 2\n",
      "incident_begin_date 3458\n",
      "incident_end_date 3272\n",
      "disaster_closeout_date 1812\n",
      "fips 3323\n",
      "place_code 1302\n",
      "designated_area 2952\n",
      "declaration_request_number 4632\n",
      "hash 62771\n",
      "last_refresh 284\n",
      "id 62771\n"
     ]
    }
   ],
   "source": [
    "for i in df.select_dtypes(exclude=['float64']).columns:\n",
    "    print(i,df[i].nunique())"
   ]
  },
  {
   "cell_type": "markdown",
   "id": "5e2204cc",
   "metadata": {},
   "source": [
    "## 2) Exploratory Data Analysis"
   ]
  },
  {
   "cell_type": "code",
   "execution_count": 6,
   "id": "da3598c0",
   "metadata": {},
   "outputs": [
    {
     "data": {
      "text/html": [
       "<div>\n",
       "<style scoped>\n",
       "    .dataframe tbody tr th:only-of-type {\n",
       "        vertical-align: middle;\n",
       "    }\n",
       "\n",
       "    .dataframe tbody tr th {\n",
       "        vertical-align: top;\n",
       "    }\n",
       "\n",
       "    .dataframe thead th {\n",
       "        text-align: right;\n",
       "    }\n",
       "</style>\n",
       "<table border=\"1\" class=\"dataframe\">\n",
       "  <thead>\n",
       "    <tr style=\"text-align: right;\">\n",
       "      <th></th>\n",
       "      <th>disaster_number</th>\n",
       "      <th>fy_declared</th>\n",
       "      <th>ih_program_declared</th>\n",
       "      <th>ia_program_declared</th>\n",
       "      <th>pa_program_declared</th>\n",
       "      <th>hm_program_declared</th>\n",
       "      <th>fips</th>\n",
       "      <th>place_code</th>\n",
       "      <th>declaration_request_number</th>\n",
       "    </tr>\n",
       "  </thead>\n",
       "  <tbody>\n",
       "    <tr>\n",
       "      <th>count</th>\n",
       "      <td>62771.000000</td>\n",
       "      <td>62771.000000</td>\n",
       "      <td>62771.000000</td>\n",
       "      <td>62771.000000</td>\n",
       "      <td>62771.000000</td>\n",
       "      <td>62771.000000</td>\n",
       "      <td>62771.000000</td>\n",
       "      <td>62771.000000</td>\n",
       "      <td>62771.000000</td>\n",
       "    </tr>\n",
       "    <tr>\n",
       "      <th>mean</th>\n",
       "      <td>2540.282503</td>\n",
       "      <td>2003.958452</td>\n",
       "      <td>0.168470</td>\n",
       "      <td>0.273805</td>\n",
       "      <td>0.930828</td>\n",
       "      <td>0.426566</td>\n",
       "      <td>31711.800577</td>\n",
       "      <td>96348.959854</td>\n",
       "      <td>35295.169824</td>\n",
       "    </tr>\n",
       "    <tr>\n",
       "      <th>std</th>\n",
       "      <td>1394.657070</td>\n",
       "      <td>14.703548</td>\n",
       "      <td>0.374286</td>\n",
       "      <td>0.445914</td>\n",
       "      <td>0.253749</td>\n",
       "      <td>0.494582</td>\n",
       "      <td>16539.960239</td>\n",
       "      <td>14036.315551</td>\n",
       "      <td>35272.190599</td>\n",
       "    </tr>\n",
       "    <tr>\n",
       "      <th>min</th>\n",
       "      <td>1.000000</td>\n",
       "      <td>1953.000000</td>\n",
       "      <td>0.000000</td>\n",
       "      <td>0.000000</td>\n",
       "      <td>0.000000</td>\n",
       "      <td>0.000000</td>\n",
       "      <td>1000.000000</td>\n",
       "      <td>0.000000</td>\n",
       "      <td>3.000000</td>\n",
       "    </tr>\n",
       "    <tr>\n",
       "      <th>25%</th>\n",
       "      <td>1293.000000</td>\n",
       "      <td>1996.000000</td>\n",
       "      <td>0.000000</td>\n",
       "      <td>0.000000</td>\n",
       "      <td>1.000000</td>\n",
       "      <td>0.000000</td>\n",
       "      <td>20000.000000</td>\n",
       "      <td>99029.000000</td>\n",
       "      <td>8135.000000</td>\n",
       "    </tr>\n",
       "    <tr>\n",
       "      <th>50%</th>\n",
       "      <td>3033.000000</td>\n",
       "      <td>2006.000000</td>\n",
       "      <td>0.000000</td>\n",
       "      <td>0.000000</td>\n",
       "      <td>1.000000</td>\n",
       "      <td>0.000000</td>\n",
       "      <td>30037.000000</td>\n",
       "      <td>99073.000000</td>\n",
       "      <td>19106.000000</td>\n",
       "    </tr>\n",
       "    <tr>\n",
       "      <th>75%</th>\n",
       "      <td>3482.000000</td>\n",
       "      <td>2017.000000</td>\n",
       "      <td>0.000000</td>\n",
       "      <td>1.000000</td>\n",
       "      <td>1.000000</td>\n",
       "      <td>1.000000</td>\n",
       "      <td>46079.000000</td>\n",
       "      <td>99125.000000</td>\n",
       "      <td>74060.000000</td>\n",
       "    </tr>\n",
       "    <tr>\n",
       "      <th>max</th>\n",
       "      <td>5423.000000</td>\n",
       "      <td>2022.000000</td>\n",
       "      <td>1.000000</td>\n",
       "      <td>1.000000</td>\n",
       "      <td>1.000000</td>\n",
       "      <td>1.000000</td>\n",
       "      <td>78030.000000</td>\n",
       "      <td>99507.000000</td>\n",
       "      <td>99159.000000</td>\n",
       "    </tr>\n",
       "  </tbody>\n",
       "</table>\n",
       "</div>"
      ],
      "text/plain": [
       "       disaster_number   fy_declared  ih_program_declared  \\\n",
       "count     62771.000000  62771.000000         62771.000000   \n",
       "mean       2540.282503   2003.958452             0.168470   \n",
       "std        1394.657070     14.703548             0.374286   \n",
       "min           1.000000   1953.000000             0.000000   \n",
       "25%        1293.000000   1996.000000             0.000000   \n",
       "50%        3033.000000   2006.000000             0.000000   \n",
       "75%        3482.000000   2017.000000             0.000000   \n",
       "max        5423.000000   2022.000000             1.000000   \n",
       "\n",
       "       ia_program_declared  pa_program_declared  hm_program_declared  \\\n",
       "count         62771.000000         62771.000000         62771.000000   \n",
       "mean              0.273805             0.930828             0.426566   \n",
       "std               0.445914             0.253749             0.494582   \n",
       "min               0.000000             0.000000             0.000000   \n",
       "25%               0.000000             1.000000             0.000000   \n",
       "50%               0.000000             1.000000             0.000000   \n",
       "75%               1.000000             1.000000             1.000000   \n",
       "max               1.000000             1.000000             1.000000   \n",
       "\n",
       "               fips    place_code  declaration_request_number  \n",
       "count  62771.000000  62771.000000                62771.000000  \n",
       "mean   31711.800577  96348.959854                35295.169824  \n",
       "std    16539.960239  14036.315551                35272.190599  \n",
       "min     1000.000000      0.000000                    3.000000  \n",
       "25%    20000.000000  99029.000000                 8135.000000  \n",
       "50%    30037.000000  99073.000000                19106.000000  \n",
       "75%    46079.000000  99125.000000                74060.000000  \n",
       "max    78030.000000  99507.000000                99159.000000  "
      ]
     },
     "execution_count": 6,
     "metadata": {},
     "output_type": "execute_result"
    }
   ],
   "source": [
    "df.describe()"
   ]
  },
  {
   "cell_type": "markdown",
   "id": "4e99e5e8",
   "metadata": {},
   "source": [
    "### 1) Univariate Analysis"
   ]
  },
  {
   "cell_type": "code",
   "execution_count": 7,
   "id": "92f648b8",
   "metadata": {},
   "outputs": [
    {
     "data": {
      "image/png": "[encoded data removed]",
      "text/plain": [
       "<Figure size 1296x432 with 2 Axes>"
      ]
     },
     "metadata": {
      "needs_background": "light"
     },
     "output_type": "display_data"
    }
   ],
   "source": [
    "# Perform Univariate Analysis using Density plot\n",
    "plt.figure(figsize=(18,6)) \n",
    "plt.subplot(121)\n",
    "sns.kdeplot(data=df, x=\"fy_declared\",fill=True)\n",
    "plt.xlabel(\"fy_declared\")\n",
    "plt.tight_layout(pad=0.5)\n",
    "\n",
    "plt.subplot(122)\n",
    "sns.kdeplot(data=df, x=\"disaster_number\",fill=True)\n",
    "plt.xlabel(\"disaster_number\")\n",
    "plt.tight_layout(pad=0.5)\n"
   ]
  },
  {
   "cell_type": "code",
   "execution_count": 8,
   "id": "68145063",
   "metadata": {},
   "outputs": [
    {
     "data": {
      "image/png": "[encoded data removed]",
      "text/plain": [
       "<Figure size 720x432 with 1 Axes>"
      ]
     },
     "metadata": {
      "needs_background": "light"
     },
     "output_type": "display_data"
    }
   ],
   "source": [
    "plt.figure(figsize=(10,6)) \n",
    "ax = sns.countplot(x=\"declaration_type\", data= df, palette=\"plasma\")\n",
    "ax.set_title('Declared Disasters Count Since 1953', fontsize=20)\n",
    "for p in ax.patches:\n",
    "    height = p.get_height()\n",
    "    ax.text(p.get_x()+p.get_width()/2., height + 0.1,height ,ha=\"center\",size=18)\n",
    "plt.show()"
   ]
  },
  {
   "cell_type": "code",
   "execution_count": 9,
   "id": "d044325c",
   "metadata": {},
   "outputs": [
    {
     "data": {
      "image/png": "[encoded data removed]",
      "text/plain": [
       "<Figure size 1440x720 with 1 Axes>"
      ]
     },
     "metadata": {
      "needs_background": "light"
     },
     "output_type": "display_data"
    }
   ],
   "source": [
    "plt.figure(figsize=(20,10)) \n",
    "plt.xticks(rotation=45)\n",
    "ax = sns.countplot(x=\"incident_type\", data= df, palette=\"plasma\")\n",
    "ax.set_title('Incident type Count Since 1953', fontsize=20)\n",
    "for p in ax.patches:\n",
    "    height = p.get_height()\n",
    "    ax.text(p.get_x()+p.get_width()/2., height + 0.1,height ,ha=\"center\",size=18)\n",
    "plt.show()"
   ]
  },
  {
   "cell_type": "code",
   "execution_count": 10,
   "id": "6b0e43d9",
   "metadata": {},
   "outputs": [
    {
     "data": {
      "image/png": "[encoded data removed]",
      "text/plain": [
       "<Figure size 1080x432 with 4 Axes>"
      ]
     },
     "metadata": {
      "needs_background": "light"
     },
     "output_type": "display_data"
    }
   ],
   "source": [
    "# Perform Univariate Analysis using Density plot\n",
    "plt.subplot(141)\n",
    "df['ih_program_declared'].plot.kde(figsize=(15,6))\n",
    "plt.xlabel('ih_program_declared')\n",
    "plt.tight_layout(pad=0.5)\n",
    "\n",
    "plt.subplot(142)\n",
    "df['ia_program_declared'].plot.kde()\n",
    "plt.xlabel('ia_program_declared')\n",
    "plt.tight_layout(pad=0.5)\n",
    "\n",
    "plt.subplot(143)\n",
    "df['pa_program_declared'].plot.kde()\n",
    "plt.xlabel('pa_program_declared')\n",
    "plt.tight_layout(pad=0.5)\n",
    "\n",
    "plt.subplot(144)\n",
    "df['hm_program_declared'].plot.kde()\n",
    "plt.xlabel('hm_program_declared')\n",
    "plt.tight_layout(pad=0.5)"
   ]
  },
  {
   "cell_type": "markdown",
   "id": "2635a99e",
   "metadata": {},
   "source": [
    "### 2) Bivariate Analysis"
   ]
  },
  {
   "cell_type": "code",
   "execution_count": 11,
   "id": "fb01af11",
   "metadata": {},
   "outputs": [
    {
     "data": {
      "text/plain": [
       "<AxesSubplot:xlabel='incident_type', ylabel='fy_declared'>"
      ]
     },
     "execution_count": 11,
     "metadata": {},
     "output_type": "execute_result"
    },
    {
     "data": {
      "image/png": "[encoded data removed]",
      "text/plain": [
       "<Figure size 1440x1080 with 1 Axes>"
      ]
     },
     "metadata": {
      "needs_background": "light"
     },
     "output_type": "display_data"
    }
   ],
   "source": [
    "plt.figure(figsize=(20,15))\n",
    "plt.xticks(rotation ='45')\n",
    "sns.boxplot(x = \"incident_type\",y = \"fy_declared\", data=df)"
   ]
  },
  {
   "cell_type": "code",
   "execution_count": 12,
   "id": "eb293666",
   "metadata": {},
   "outputs": [
    {
     "data": {
      "text/plain": [
       "<seaborn.axisgrid.PairGrid at 0x261f100efa0>"
      ]
     },
     "execution_count": 12,
     "metadata": {},
     "output_type": "execute_result"
    },
    {
     "data": {
      "image/png": "[encoded data removed]",
      "text/plain": [
       "<Figure size 720x360 with 2 Axes>"
      ]
     },
     "metadata": {
      "needs_background": "light"
     },
     "output_type": "display_data"
    }
   ],
   "source": [
    "sns.pairplot(\n",
    "    df,\n",
    "    x_vars=[ 'declaration_type','fy_declared'],\n",
    "    y_vars=['incident_type'],height=5)"
   ]
  },
  {
   "cell_type": "code",
   "execution_count": 13,
   "id": "e8dadbf3",
   "metadata": {},
   "outputs": [
    {
     "data": {
      "text/plain": [
       "<AxesSubplot:xlabel='hm_program_declared', ylabel='disaster_number'>"
      ]
     },
     "execution_count": 13,
     "metadata": {},
     "output_type": "execute_result"
    },
    {
     "data": {
      "image/png": "[encoded data removed]",
      "text/plain": [
       "<Figure size 1440x432 with 4 Axes>"
      ]
     },
     "metadata": {
      "needs_background": "light"
     },
     "output_type": "display_data"
    }
   ],
   "source": [
    "fig, axes = plt.subplots(nrows=1, ncols=4,figsize=(20,6)) # create 1x4 array of subplots\n",
    "sns.boxplot(y = \"disaster_number\", x = \"ih_program_declared\", data=df, ax=axes[0]) # add boxplot to 1st subplot\n",
    "sns.boxplot(y = \"disaster_number\", x = \"ia_program_declared\", data=df, ax=axes[1])\n",
    "sns.boxplot(y = \"disaster_number\", x = \"pa_program_declared\", data=df, ax=axes[2])\n",
    "sns.boxplot(y = \"disaster_number\", x = \"hm_program_declared\", data=df, ax=axes[3])"
   ]
  },
  {
   "cell_type": "code",
   "execution_count": 14,
   "id": "954fbecd",
   "metadata": {},
   "outputs": [
    {
     "data": {
      "text/plain": [
       "<AxesSubplot:title={'center':'fy_declared'}, xlabel='hm_program_declared'>"
      ]
     },
     "execution_count": 14,
     "metadata": {},
     "output_type": "execute_result"
    },
    {
     "data": {
      "image/png": "[encoded data removed]",
      "text/plain": [
       "<Figure size 1080x432 with 4 Axes>"
      ]
     },
     "metadata": {
      "needs_background": "light"
     },
     "output_type": "display_data"
    }
   ],
   "source": [
    "fig, axes = plt.subplots(nrows=1, ncols=4,figsize=(15,6)) # create 1x3 array of subplots\n",
    "df.boxplot(column='fy_declared', by='ih_program_declared', ax=axes[0],patch_artist=True) # add boxplot to 1st subplot\n",
    "df.boxplot(column='fy_declared', by='ia_program_declared', ax=axes[1],patch_artist=True) # add boxplot to 2nd subplot\n",
    "df.boxplot(column='fy_declared', by='pa_program_declared', ax=axes[2],patch_artist=True)\n",
    "df.boxplot(column='fy_declared', by='hm_program_declared', ax=axes[3],patch_artist=True)"
   ]
  },
  {
   "cell_type": "markdown",
   "id": "9043854a",
   "metadata": {},
   "source": [
    "## Data PreProcessing"
   ]
  },
  {
   "cell_type": "markdown",
   "id": "39b3d7bb",
   "metadata": {},
   "source": [
    "### Handling Missing Values"
   ]
  },
  {
   "cell_type": "markdown",
   "id": "655009c0",
   "metadata": {},
   "source": [
    "As the column 'disaster_closeout_date' has 1/4 th of the values as missing, we drop the column"
   ]
  },
  {
   "cell_type": "code",
   "execution_count": 15,
   "id": "cecb9358",
   "metadata": {},
   "outputs": [
    {
     "data": {
      "text/plain": [
       "(62771, 21)"
      ]
     },
     "execution_count": 15,
     "metadata": {},
     "output_type": "execute_result"
    }
   ],
   "source": [
    "df.drop('disaster_closeout_date',axis=1 , inplace=True)\n",
    "df.shape"
   ]
  },
  {
   "cell_type": "code",
   "execution_count": 16,
   "id": "5cd1c06a",
   "metadata": {},
   "outputs": [
    {
     "data": {
      "text/html": [
       "<div>\n",
       "<style scoped>\n",
       "    .dataframe tbody tr th:only-of-type {\n",
       "        vertical-align: middle;\n",
       "    }\n",
       "\n",
       "    .dataframe tbody tr th {\n",
       "        vertical-align: top;\n",
       "    }\n",
       "\n",
       "    .dataframe thead th {\n",
       "        text-align: right;\n",
       "    }\n",
       "</style>\n",
       "<table border=\"1\" class=\"dataframe\">\n",
       "  <thead>\n",
       "    <tr style=\"text-align: right;\">\n",
       "      <th></th>\n",
       "      <th>incident_begin_date</th>\n",
       "      <th>incident_end_date</th>\n",
       "    </tr>\n",
       "    <tr>\n",
       "      <th>incident_type</th>\n",
       "      <th></th>\n",
       "      <th></th>\n",
       "    </tr>\n",
       "  </thead>\n",
       "  <tbody>\n",
       "    <tr>\n",
       "      <th>Biological</th>\n",
       "      <td>7856</td>\n",
       "      <td>0</td>\n",
       "    </tr>\n",
       "    <tr>\n",
       "      <th>Chemical</th>\n",
       "      <td>9</td>\n",
       "      <td>9</td>\n",
       "    </tr>\n",
       "    <tr>\n",
       "      <th>Coastal Storm</th>\n",
       "      <td>635</td>\n",
       "      <td>634</td>\n",
       "    </tr>\n",
       "    <tr>\n",
       "      <th>Dam/Levee Break</th>\n",
       "      <td>13</td>\n",
       "      <td>13</td>\n",
       "    </tr>\n",
       "    <tr>\n",
       "      <th>Drought</th>\n",
       "      <td>1292</td>\n",
       "      <td>1292</td>\n",
       "    </tr>\n",
       "    <tr>\n",
       "      <th>Earthquake</th>\n",
       "      <td>227</td>\n",
       "      <td>227</td>\n",
       "    </tr>\n",
       "    <tr>\n",
       "      <th>Fire</th>\n",
       "      <td>3566</td>\n",
       "      <td>3102</td>\n",
       "    </tr>\n",
       "    <tr>\n",
       "      <th>Fishing Losses</th>\n",
       "      <td>42</td>\n",
       "      <td>42</td>\n",
       "    </tr>\n",
       "    <tr>\n",
       "      <th>Flood</th>\n",
       "      <td>10483</td>\n",
       "      <td>10483</td>\n",
       "    </tr>\n",
       "    <tr>\n",
       "      <th>Freezing</th>\n",
       "      <td>301</td>\n",
       "      <td>301</td>\n",
       "    </tr>\n",
       "    <tr>\n",
       "      <th>Human Cause</th>\n",
       "      <td>7</td>\n",
       "      <td>7</td>\n",
       "    </tr>\n",
       "    <tr>\n",
       "      <th>Hurricane</th>\n",
       "      <td>12490</td>\n",
       "      <td>12474</td>\n",
       "    </tr>\n",
       "    <tr>\n",
       "      <th>Mud/Landslide</th>\n",
       "      <td>36</td>\n",
       "      <td>36</td>\n",
       "    </tr>\n",
       "    <tr>\n",
       "      <th>Other</th>\n",
       "      <td>306</td>\n",
       "      <td>306</td>\n",
       "    </tr>\n",
       "    <tr>\n",
       "      <th>Severe Ice Storm</th>\n",
       "      <td>2942</td>\n",
       "      <td>2942</td>\n",
       "    </tr>\n",
       "    <tr>\n",
       "      <th>Severe Storm(s)</th>\n",
       "      <td>17127</td>\n",
       "      <td>17126</td>\n",
       "    </tr>\n",
       "    <tr>\n",
       "      <th>Snow</th>\n",
       "      <td>3664</td>\n",
       "      <td>3664</td>\n",
       "    </tr>\n",
       "    <tr>\n",
       "      <th>Terrorist</th>\n",
       "      <td>5</td>\n",
       "      <td>5</td>\n",
       "    </tr>\n",
       "    <tr>\n",
       "      <th>Tornado</th>\n",
       "      <td>1571</td>\n",
       "      <td>1571</td>\n",
       "    </tr>\n",
       "    <tr>\n",
       "      <th>Toxic Substances</th>\n",
       "      <td>9</td>\n",
       "      <td>9</td>\n",
       "    </tr>\n",
       "    <tr>\n",
       "      <th>Tsunami</th>\n",
       "      <td>9</td>\n",
       "      <td>9</td>\n",
       "    </tr>\n",
       "    <tr>\n",
       "      <th>Typhoon</th>\n",
       "      <td>130</td>\n",
       "      <td>130</td>\n",
       "    </tr>\n",
       "    <tr>\n",
       "      <th>Volcano</th>\n",
       "      <td>51</td>\n",
       "      <td>51</td>\n",
       "    </tr>\n",
       "  </tbody>\n",
       "</table>\n",
       "</div>"
      ],
      "text/plain": [
       "                  incident_begin_date  incident_end_date\n",
       "incident_type                                           \n",
       "Biological                       7856                  0\n",
       "Chemical                            9                  9\n",
       "Coastal Storm                     635                634\n",
       "Dam/Levee Break                    13                 13\n",
       "Drought                          1292               1292\n",
       "Earthquake                        227                227\n",
       "Fire                             3566               3102\n",
       "Fishing Losses                     42                 42\n",
       "Flood                           10483              10483\n",
       "Freezing                          301                301\n",
       "Human Cause                         7                  7\n",
       "Hurricane                       12490              12474\n",
       "Mud/Landslide                      36                 36\n",
       "Other                             306                306\n",
       "Severe Ice Storm                 2942               2942\n",
       "Severe Storm(s)                 17127              17126\n",
       "Snow                             3664               3664\n",
       "Terrorist                           5                  5\n",
       "Tornado                          1571               1571\n",
       "Toxic Substances                    9                  9\n",
       "Tsunami                             9                  9\n",
       "Typhoon                           130                130\n",
       "Volcano                            51                 51"
      ]
     },
     "execution_count": 16,
     "metadata": {},
     "output_type": "execute_result"
    }
   ],
   "source": [
    "#incident recorded count\n",
    "duration = df.groupby('incident_type')['incident_begin_date','incident_end_date'].count()\n",
    "duration"
   ]
  },
  {
   "cell_type": "code",
   "execution_count": 17,
   "id": "8c9c3d7b",
   "metadata": {},
   "outputs": [
    {
     "data": {
      "text/plain": [
       "{'Biological': 7856,\n",
       " 'Coastal Storm': 1,\n",
       " 'Fire': 464,\n",
       " 'Hurricane': 16,\n",
       " 'Severe Storm(s)': 1}"
      ]
     },
     "execution_count": 17,
     "metadata": {},
     "output_type": "execute_result"
    }
   ],
   "source": [
    "types=duration.index.to_list()\n",
    "dur=duration.to_numpy()\n",
    "inci_type={}\n",
    "j=0\n",
    "for i in dur:\n",
    "    if(i[0]-i[1]>0):\n",
    "        key=types[j]\n",
    "        inci_type[key]=i[0]-i[1]\n",
    "    j=j+1\n",
    "inci_type"
   ]
  },
  {
   "cell_type": "markdown",
   "id": "b669a23f",
   "metadata": {},
   "source": [
    "These are the incident types which has null values in incident_end_date.\n",
    "\n",
    "As per the graph we had in univariate analysis, Biological incidents happened in these years are of count 7856 and the missing value count is also the same. i.e for all the data in biological incidents, Biological incident_end_date is left null."
   ]
  },
  {
   "cell_type": "code",
   "execution_count": 18,
   "id": "93d15062",
   "metadata": {},
   "outputs": [
    {
     "data": {
      "text/html": [
       "<div>\n",
       "<style scoped>\n",
       "    .dataframe tbody tr th:only-of-type {\n",
       "        vertical-align: middle;\n",
       "    }\n",
       "\n",
       "    .dataframe tbody tr th {\n",
       "        vertical-align: top;\n",
       "    }\n",
       "\n",
       "    .dataframe thead th {\n",
       "        text-align: right;\n",
       "    }\n",
       "</style>\n",
       "<table border=\"1\" class=\"dataframe\">\n",
       "  <thead>\n",
       "    <tr style=\"text-align: right;\">\n",
       "      <th></th>\n",
       "      <th>incident_type</th>\n",
       "      <th>incident_begin_date</th>\n",
       "      <th>incident_end_date</th>\n",
       "    </tr>\n",
       "  </thead>\n",
       "  <tbody>\n",
       "    <tr>\n",
       "      <th>51210</th>\n",
       "      <td>Biological</td>\n",
       "      <td>2020-01-20T14:00:00Z</td>\n",
       "      <td>NaN</td>\n",
       "    </tr>\n",
       "    <tr>\n",
       "      <th>51211</th>\n",
       "      <td>Biological</td>\n",
       "      <td>2020-01-20T14:00:00Z</td>\n",
       "      <td>NaN</td>\n",
       "    </tr>\n",
       "    <tr>\n",
       "      <th>51212</th>\n",
       "      <td>Biological</td>\n",
       "      <td>2020-01-20T14:00:00Z</td>\n",
       "      <td>NaN</td>\n",
       "    </tr>\n",
       "    <tr>\n",
       "      <th>51213</th>\n",
       "      <td>Biological</td>\n",
       "      <td>2020-01-20T14:00:00Z</td>\n",
       "      <td>NaN</td>\n",
       "    </tr>\n",
       "    <tr>\n",
       "      <th>51214</th>\n",
       "      <td>Biological</td>\n",
       "      <td>2020-01-20T14:00:00Z</td>\n",
       "      <td>NaN</td>\n",
       "    </tr>\n",
       "    <tr>\n",
       "      <th>...</th>\n",
       "      <td>...</td>\n",
       "      <td>...</td>\n",
       "      <td>...</td>\n",
       "    </tr>\n",
       "    <tr>\n",
       "      <th>59202</th>\n",
       "      <td>Biological</td>\n",
       "      <td>2020-01-20T14:00:00Z</td>\n",
       "      <td>NaN</td>\n",
       "    </tr>\n",
       "    <tr>\n",
       "      <th>59203</th>\n",
       "      <td>Biological</td>\n",
       "      <td>2020-01-20T14:00:00Z</td>\n",
       "      <td>NaN</td>\n",
       "    </tr>\n",
       "    <tr>\n",
       "      <th>59204</th>\n",
       "      <td>Biological</td>\n",
       "      <td>2020-01-20T14:00:00Z</td>\n",
       "      <td>NaN</td>\n",
       "    </tr>\n",
       "    <tr>\n",
       "      <th>60834</th>\n",
       "      <td>Biological</td>\n",
       "      <td>2020-01-20T12:00:00Z</td>\n",
       "      <td>NaN</td>\n",
       "    </tr>\n",
       "    <tr>\n",
       "      <th>61668</th>\n",
       "      <td>Biological</td>\n",
       "      <td>2020-01-20T14:00:00Z</td>\n",
       "      <td>NaN</td>\n",
       "    </tr>\n",
       "  </tbody>\n",
       "</table>\n",
       "<p>7856 rows × 3 columns</p>\n",
       "</div>"
      ],
      "text/plain": [
       "      incident_type   incident_begin_date incident_end_date\n",
       "51210    Biological  2020-01-20T14:00:00Z               NaN\n",
       "51211    Biological  2020-01-20T14:00:00Z               NaN\n",
       "51212    Biological  2020-01-20T14:00:00Z               NaN\n",
       "51213    Biological  2020-01-20T14:00:00Z               NaN\n",
       "51214    Biological  2020-01-20T14:00:00Z               NaN\n",
       "...             ...                   ...               ...\n",
       "59202    Biological  2020-01-20T14:00:00Z               NaN\n",
       "59203    Biological  2020-01-20T14:00:00Z               NaN\n",
       "59204    Biological  2020-01-20T14:00:00Z               NaN\n",
       "60834    Biological  2020-01-20T12:00:00Z               NaN\n",
       "61668    Biological  2020-01-20T14:00:00Z               NaN\n",
       "\n",
       "[7856 rows x 3 columns]"
      ]
     },
     "metadata": {},
     "output_type": "display_data"
    }
   ],
   "source": [
    "biological_rows  = df.loc[(df['incident_type']=='Biological') ]\n",
    "display(biological_rows[['incident_type','incident_begin_date','incident_end_date']])"
   ]
  },
  {
   "cell_type": "markdown",
   "id": "869545d8",
   "metadata": {},
   "source": [
    "As all the entries in the category does not have incident_end_date , we drop those rows which is of incident_type 'Biological'"
   ]
  },
  {
   "cell_type": "code",
   "execution_count": 19,
   "id": "f3dfedd0",
   "metadata": {},
   "outputs": [],
   "source": [
    "df.drop(df[df['incident_type'] == 'Biological'].index, inplace = True)"
   ]
  },
  {
   "cell_type": "markdown",
   "id": "d19a1100",
   "metadata": {},
   "source": [
    "#### handling missing values of Coastal Storm Incident type"
   ]
  },
  {
   "cell_type": "code",
   "execution_count": 20,
   "id": "61b64df0",
   "metadata": {},
   "outputs": [
    {
     "data": {
      "text/html": [
       "<div>\n",
       "<style scoped>\n",
       "    .dataframe tbody tr th:only-of-type {\n",
       "        vertical-align: middle;\n",
       "    }\n",
       "\n",
       "    .dataframe tbody tr th {\n",
       "        vertical-align: top;\n",
       "    }\n",
       "\n",
       "    .dataframe thead th {\n",
       "        text-align: right;\n",
       "    }\n",
       "</style>\n",
       "<table border=\"1\" class=\"dataframe\">\n",
       "  <thead>\n",
       "    <tr style=\"text-align: right;\">\n",
       "      <th></th>\n",
       "      <th>incident_type</th>\n",
       "      <th>incident_begin_date</th>\n",
       "      <th>incident_end_date</th>\n",
       "    </tr>\n",
       "  </thead>\n",
       "  <tbody>\n",
       "    <tr>\n",
       "      <th>2197</th>\n",
       "      <td>Coastal Storm</td>\n",
       "      <td>1972-03-18T00:00:00Z</td>\n",
       "      <td>1972-03-18T00:00:00Z</td>\n",
       "    </tr>\n",
       "    <tr>\n",
       "      <th>2247</th>\n",
       "      <td>Coastal Storm</td>\n",
       "      <td>1972-06-23T00:00:00Z</td>\n",
       "      <td>1972-06-23T00:00:00Z</td>\n",
       "    </tr>\n",
       "    <tr>\n",
       "      <th>2248</th>\n",
       "      <td>Coastal Storm</td>\n",
       "      <td>1972-06-23T00:00:00Z</td>\n",
       "      <td>1972-06-23T00:00:00Z</td>\n",
       "    </tr>\n",
       "    <tr>\n",
       "      <th>2249</th>\n",
       "      <td>Coastal Storm</td>\n",
       "      <td>1972-06-23T00:00:00Z</td>\n",
       "      <td>1972-06-23T00:00:00Z</td>\n",
       "    </tr>\n",
       "    <tr>\n",
       "      <th>2250</th>\n",
       "      <td>Coastal Storm</td>\n",
       "      <td>1972-06-23T00:00:00Z</td>\n",
       "      <td>1972-06-23T00:00:00Z</td>\n",
       "    </tr>\n",
       "    <tr>\n",
       "      <th>...</th>\n",
       "      <td>...</td>\n",
       "      <td>...</td>\n",
       "      <td>...</td>\n",
       "    </tr>\n",
       "    <tr>\n",
       "      <th>62542</th>\n",
       "      <td>Coastal Storm</td>\n",
       "      <td>2021-09-12T12:00:00Z</td>\n",
       "      <td>2021-09-18T23:00:00Z</td>\n",
       "    </tr>\n",
       "    <tr>\n",
       "      <th>62543</th>\n",
       "      <td>Coastal Storm</td>\n",
       "      <td>2021-09-12T12:00:00Z</td>\n",
       "      <td>2021-09-18T23:00:00Z</td>\n",
       "    </tr>\n",
       "    <tr>\n",
       "      <th>62544</th>\n",
       "      <td>Coastal Storm</td>\n",
       "      <td>2021-09-12T12:00:00Z</td>\n",
       "      <td>2021-09-18T23:00:00Z</td>\n",
       "    </tr>\n",
       "    <tr>\n",
       "      <th>62545</th>\n",
       "      <td>Coastal Storm</td>\n",
       "      <td>2021-09-12T12:00:00Z</td>\n",
       "      <td>2021-09-18T23:00:00Z</td>\n",
       "    </tr>\n",
       "    <tr>\n",
       "      <th>62546</th>\n",
       "      <td>Coastal Storm</td>\n",
       "      <td>2021-09-12T12:00:00Z</td>\n",
       "      <td>2021-09-18T23:00:00Z</td>\n",
       "    </tr>\n",
       "  </tbody>\n",
       "</table>\n",
       "<p>635 rows × 3 columns</p>\n",
       "</div>"
      ],
      "text/plain": [
       "       incident_type   incident_begin_date     incident_end_date\n",
       "2197   Coastal Storm  1972-03-18T00:00:00Z  1972-03-18T00:00:00Z\n",
       "2247   Coastal Storm  1972-06-23T00:00:00Z  1972-06-23T00:00:00Z\n",
       "2248   Coastal Storm  1972-06-23T00:00:00Z  1972-06-23T00:00:00Z\n",
       "2249   Coastal Storm  1972-06-23T00:00:00Z  1972-06-23T00:00:00Z\n",
       "2250   Coastal Storm  1972-06-23T00:00:00Z  1972-06-23T00:00:00Z\n",
       "...              ...                   ...                   ...\n",
       "62542  Coastal Storm  2021-09-12T12:00:00Z  2021-09-18T23:00:00Z\n",
       "62543  Coastal Storm  2021-09-12T12:00:00Z  2021-09-18T23:00:00Z\n",
       "62544  Coastal Storm  2021-09-12T12:00:00Z  2021-09-18T23:00:00Z\n",
       "62545  Coastal Storm  2021-09-12T12:00:00Z  2021-09-18T23:00:00Z\n",
       "62546  Coastal Storm  2021-09-12T12:00:00Z  2021-09-18T23:00:00Z\n",
       "\n",
       "[635 rows x 3 columns]"
      ]
     },
     "metadata": {},
     "output_type": "display_data"
    }
   ],
   "source": [
    "coastal_rows  = df.loc[(df['incident_type']=='Coastal Storm') ]\n",
    "display(coastal_rows[['incident_type','incident_begin_date','incident_end_date']])"
   ]
  },
  {
   "cell_type": "markdown",
   "id": "0d2d7ee7",
   "metadata": {},
   "source": [
    "#### handling missing values of Severe Storm Incident type"
   ]
  },
  {
   "cell_type": "code",
   "execution_count": 21,
   "id": "f64321cf",
   "metadata": {},
   "outputs": [
    {
     "data": {
      "text/html": [
       "<div>\n",
       "<style scoped>\n",
       "    .dataframe tbody tr th:only-of-type {\n",
       "        vertical-align: middle;\n",
       "    }\n",
       "\n",
       "    .dataframe tbody tr th {\n",
       "        vertical-align: top;\n",
       "    }\n",
       "\n",
       "    .dataframe thead th {\n",
       "        text-align: right;\n",
       "    }\n",
       "</style>\n",
       "<table border=\"1\" class=\"dataframe\">\n",
       "  <thead>\n",
       "    <tr style=\"text-align: right;\">\n",
       "      <th></th>\n",
       "      <th>incident_type</th>\n",
       "      <th>incident_begin_date</th>\n",
       "      <th>incident_end_date</th>\n",
       "    </tr>\n",
       "  </thead>\n",
       "  <tbody>\n",
       "    <tr>\n",
       "      <th>54</th>\n",
       "      <td>Severe Storm(s)</td>\n",
       "      <td>1956-04-24T00:00:00Z</td>\n",
       "      <td>1956-04-24T00:00:00Z</td>\n",
       "    </tr>\n",
       "    <tr>\n",
       "      <th>56</th>\n",
       "      <td>Severe Storm(s)</td>\n",
       "      <td>1956-05-21T00:00:00Z</td>\n",
       "      <td>1956-05-21T00:00:00Z</td>\n",
       "    </tr>\n",
       "    <tr>\n",
       "      <th>59</th>\n",
       "      <td>Severe Storm(s)</td>\n",
       "      <td>1956-08-09T00:00:00Z</td>\n",
       "      <td>1956-08-09T00:00:00Z</td>\n",
       "    </tr>\n",
       "    <tr>\n",
       "      <th>101</th>\n",
       "      <td>Severe Storm(s)</td>\n",
       "      <td>1960-07-15T00:00:00Z</td>\n",
       "      <td>1960-07-15T00:00:00Z</td>\n",
       "    </tr>\n",
       "    <tr>\n",
       "      <th>102</th>\n",
       "      <td>Severe Storm(s)</td>\n",
       "      <td>1960-07-15T00:00:00Z</td>\n",
       "      <td>1960-07-15T00:00:00Z</td>\n",
       "    </tr>\n",
       "    <tr>\n",
       "      <th>...</th>\n",
       "      <td>...</td>\n",
       "      <td>...</td>\n",
       "      <td>...</td>\n",
       "    </tr>\n",
       "    <tr>\n",
       "      <th>62751</th>\n",
       "      <td>Severe Storm(s)</td>\n",
       "      <td>2021-12-10T18:00:00Z</td>\n",
       "      <td>2021-12-10T23:59:00Z</td>\n",
       "    </tr>\n",
       "    <tr>\n",
       "      <th>62752</th>\n",
       "      <td>Severe Storm(s)</td>\n",
       "      <td>2021-12-10T18:00:00Z</td>\n",
       "      <td>2021-12-10T23:59:00Z</td>\n",
       "    </tr>\n",
       "    <tr>\n",
       "      <th>62753</th>\n",
       "      <td>Severe Storm(s)</td>\n",
       "      <td>2021-12-10T18:00:00Z</td>\n",
       "      <td>2021-12-10T23:59:00Z</td>\n",
       "    </tr>\n",
       "    <tr>\n",
       "      <th>62754</th>\n",
       "      <td>Severe Storm(s)</td>\n",
       "      <td>2021-12-10T18:00:00Z</td>\n",
       "      <td>2021-12-10T23:59:00Z</td>\n",
       "    </tr>\n",
       "    <tr>\n",
       "      <th>62770</th>\n",
       "      <td>Severe Storm(s)</td>\n",
       "      <td>2021-10-29T00:01:00Z</td>\n",
       "      <td>2021-11-01T00:00:00Z</td>\n",
       "    </tr>\n",
       "  </tbody>\n",
       "</table>\n",
       "<p>17127 rows × 3 columns</p>\n",
       "</div>"
      ],
      "text/plain": [
       "         incident_type   incident_begin_date     incident_end_date\n",
       "54     Severe Storm(s)  1956-04-24T00:00:00Z  1956-04-24T00:00:00Z\n",
       "56     Severe Storm(s)  1956-05-21T00:00:00Z  1956-05-21T00:00:00Z\n",
       "59     Severe Storm(s)  1956-08-09T00:00:00Z  1956-08-09T00:00:00Z\n",
       "101    Severe Storm(s)  1960-07-15T00:00:00Z  1960-07-15T00:00:00Z\n",
       "102    Severe Storm(s)  1960-07-15T00:00:00Z  1960-07-15T00:00:00Z\n",
       "...                ...                   ...                   ...\n",
       "62751  Severe Storm(s)  2021-12-10T18:00:00Z  2021-12-10T23:59:00Z\n",
       "62752  Severe Storm(s)  2021-12-10T18:00:00Z  2021-12-10T23:59:00Z\n",
       "62753  Severe Storm(s)  2021-12-10T18:00:00Z  2021-12-10T23:59:00Z\n",
       "62754  Severe Storm(s)  2021-12-10T18:00:00Z  2021-12-10T23:59:00Z\n",
       "62770  Severe Storm(s)  2021-10-29T00:01:00Z  2021-11-01T00:00:00Z\n",
       "\n",
       "[17127 rows x 3 columns]"
      ]
     },
     "metadata": {},
     "output_type": "display_data"
    }
   ],
   "source": [
    "storm_rows  = df.loc[(df['incident_type']=='Severe Storm(s)') ]\n",
    "display(storm_rows[['incident_type','incident_begin_date','incident_end_date']])"
   ]
  },
  {
   "cell_type": "markdown",
   "id": "b1d6e0f0",
   "metadata": {},
   "source": [
    "#### handling missing values of Hurricane Incident type"
   ]
  },
  {
   "cell_type": "code",
   "execution_count": 22,
   "id": "08d7d5a3",
   "metadata": {},
   "outputs": [
    {
     "data": {
      "text/html": [
       "<div>\n",
       "<style scoped>\n",
       "    .dataframe tbody tr th:only-of-type {\n",
       "        vertical-align: middle;\n",
       "    }\n",
       "\n",
       "    .dataframe tbody tr th {\n",
       "        vertical-align: top;\n",
       "    }\n",
       "\n",
       "    .dataframe thead th {\n",
       "        text-align: right;\n",
       "    }\n",
       "</style>\n",
       "<table border=\"1\" class=\"dataframe\">\n",
       "  <thead>\n",
       "    <tr style=\"text-align: right;\">\n",
       "      <th></th>\n",
       "      <th>incident_type</th>\n",
       "      <th>incident_begin_date</th>\n",
       "      <th>incident_end_date</th>\n",
       "    </tr>\n",
       "  </thead>\n",
       "  <tbody>\n",
       "    <tr>\n",
       "      <th>20</th>\n",
       "      <td>Hurricane</td>\n",
       "      <td>1954-09-02T00:00:00Z</td>\n",
       "      <td>1954-09-02T00:00:00Z</td>\n",
       "    </tr>\n",
       "    <tr>\n",
       "      <th>21</th>\n",
       "      <td>Hurricane</td>\n",
       "      <td>1954-09-02T00:00:00Z</td>\n",
       "      <td>1954-09-02T00:00:00Z</td>\n",
       "    </tr>\n",
       "    <tr>\n",
       "      <th>22</th>\n",
       "      <td>Hurricane</td>\n",
       "      <td>1954-09-13T00:00:00Z</td>\n",
       "      <td>1954-09-13T00:00:00Z</td>\n",
       "    </tr>\n",
       "    <tr>\n",
       "      <th>23</th>\n",
       "      <td>Hurricane</td>\n",
       "      <td>1954-09-17T00:00:00Z</td>\n",
       "      <td>1954-09-17T00:00:00Z</td>\n",
       "    </tr>\n",
       "    <tr>\n",
       "      <th>24</th>\n",
       "      <td>Hurricane</td>\n",
       "      <td>1954-10-07T00:00:00Z</td>\n",
       "      <td>1954-10-07T00:00:00Z</td>\n",
       "    </tr>\n",
       "    <tr>\n",
       "      <th>...</th>\n",
       "      <td>...</td>\n",
       "      <td>...</td>\n",
       "      <td>...</td>\n",
       "    </tr>\n",
       "    <tr>\n",
       "      <th>62653</th>\n",
       "      <td>Hurricane</td>\n",
       "      <td>2021-09-01T08:00:00Z</td>\n",
       "      <td>2021-09-02T23:59:00Z</td>\n",
       "    </tr>\n",
       "    <tr>\n",
       "      <th>62654</th>\n",
       "      <td>Hurricane</td>\n",
       "      <td>2021-09-01T08:00:00Z</td>\n",
       "      <td>2021-09-02T23:59:00Z</td>\n",
       "    </tr>\n",
       "    <tr>\n",
       "      <th>62655</th>\n",
       "      <td>Hurricane</td>\n",
       "      <td>2021-09-01T08:00:00Z</td>\n",
       "      <td>2021-09-02T23:59:00Z</td>\n",
       "    </tr>\n",
       "    <tr>\n",
       "      <th>62656</th>\n",
       "      <td>Hurricane</td>\n",
       "      <td>2021-09-01T08:00:00Z</td>\n",
       "      <td>2021-09-02T23:59:00Z</td>\n",
       "    </tr>\n",
       "    <tr>\n",
       "      <th>62657</th>\n",
       "      <td>Hurricane</td>\n",
       "      <td>2021-09-01T08:00:00Z</td>\n",
       "      <td>2021-09-02T23:59:00Z</td>\n",
       "    </tr>\n",
       "  </tbody>\n",
       "</table>\n",
       "<p>12490 rows × 3 columns</p>\n",
       "</div>"
      ],
      "text/plain": [
       "      incident_type   incident_begin_date     incident_end_date\n",
       "20        Hurricane  1954-09-02T00:00:00Z  1954-09-02T00:00:00Z\n",
       "21        Hurricane  1954-09-02T00:00:00Z  1954-09-02T00:00:00Z\n",
       "22        Hurricane  1954-09-13T00:00:00Z  1954-09-13T00:00:00Z\n",
       "23        Hurricane  1954-09-17T00:00:00Z  1954-09-17T00:00:00Z\n",
       "24        Hurricane  1954-10-07T00:00:00Z  1954-10-07T00:00:00Z\n",
       "...             ...                   ...                   ...\n",
       "62653     Hurricane  2021-09-01T08:00:00Z  2021-09-02T23:59:00Z\n",
       "62654     Hurricane  2021-09-01T08:00:00Z  2021-09-02T23:59:00Z\n",
       "62655     Hurricane  2021-09-01T08:00:00Z  2021-09-02T23:59:00Z\n",
       "62656     Hurricane  2021-09-01T08:00:00Z  2021-09-02T23:59:00Z\n",
       "62657     Hurricane  2021-09-01T08:00:00Z  2021-09-02T23:59:00Z\n",
       "\n",
       "[12490 rows x 3 columns]"
      ]
     },
     "metadata": {},
     "output_type": "display_data"
    }
   ],
   "source": [
    "hurricane_rows  = df.loc[(df['incident_type']=='Hurricane') ]\n",
    "display(hurricane_rows[['incident_type','incident_begin_date','incident_end_date']])"
   ]
  },
  {
   "cell_type": "markdown",
   "id": "50300925",
   "metadata": {},
   "source": [
    "Data shows incident_begin_date and incident_end_date are same in case of Coastal Storm, Hurricane and Severe Storm(s). \n",
    "So replace the null value in incident_end_date with incident_begin_date."
   ]
  },
  {
   "cell_type": "code",
   "execution_count": 23,
   "id": "2a5a94aa",
   "metadata": {},
   "outputs": [],
   "source": [
    "value_replace=['Coastal Storm','Hurricane','Severe Storm(s)']\n",
    "for i in value_replace:\n",
    "    df['incident_end_date'] = np.where(((df['incident_type']==i) & (df['incident_end_date'].isna())),\n",
    "                                            df['incident_begin_date'], df['incident_end_date'])"
   ]
  },
  {
   "cell_type": "code",
   "execution_count": 24,
   "id": "94d312d3",
   "metadata": {},
   "outputs": [
    {
     "data": {
      "text/html": [
       "<div>\n",
       "<style scoped>\n",
       "    .dataframe tbody tr th:only-of-type {\n",
       "        vertical-align: middle;\n",
       "    }\n",
       "\n",
       "    .dataframe tbody tr th {\n",
       "        vertical-align: top;\n",
       "    }\n",
       "\n",
       "    .dataframe thead th {\n",
       "        text-align: right;\n",
       "    }\n",
       "</style>\n",
       "<table border=\"1\" class=\"dataframe\">\n",
       "  <thead>\n",
       "    <tr style=\"text-align: right;\">\n",
       "      <th></th>\n",
       "      <th>incident_type</th>\n",
       "      <th>incident_begin_date</th>\n",
       "      <th>incident_end_date</th>\n",
       "    </tr>\n",
       "  </thead>\n",
       "  <tbody>\n",
       "    <tr>\n",
       "      <th>27034</th>\n",
       "      <td>Fire</td>\n",
       "      <td>2005-07-16T15:30:00Z</td>\n",
       "      <td>2005-07-18T21:00:00Z</td>\n",
       "    </tr>\n",
       "    <tr>\n",
       "      <th>18966</th>\n",
       "      <td>Fire</td>\n",
       "      <td>1999-08-01T12:00:00Z</td>\n",
       "      <td>1999-12-10T00:00:00Z</td>\n",
       "    </tr>\n",
       "    <tr>\n",
       "      <th>48479</th>\n",
       "      <td>Fire</td>\n",
       "      <td>2018-07-18T17:00:00Z</td>\n",
       "      <td>2018-09-08T18:00:00Z</td>\n",
       "    </tr>\n",
       "    <tr>\n",
       "      <th>48088</th>\n",
       "      <td>Fire</td>\n",
       "      <td>2017-10-08T02:30:00Z</td>\n",
       "      <td>2017-10-31T23:59:00Z</td>\n",
       "    </tr>\n",
       "    <tr>\n",
       "      <th>15193</th>\n",
       "      <td>Fire</td>\n",
       "      <td>1996-04-25T00:00:00Z</td>\n",
       "      <td>1996-04-25T00:00:00Z</td>\n",
       "    </tr>\n",
       "    <tr>\n",
       "      <th>31419</th>\n",
       "      <td>Fire</td>\n",
       "      <td>2005-11-27T00:00:00Z</td>\n",
       "      <td>2006-05-14T18:18:00Z</td>\n",
       "    </tr>\n",
       "    <tr>\n",
       "      <th>31883</th>\n",
       "      <td>Fire</td>\n",
       "      <td>2006-07-24T09:00:00Z</td>\n",
       "      <td>2006-07-29T20:00:00Z</td>\n",
       "    </tr>\n",
       "    <tr>\n",
       "      <th>24054</th>\n",
       "      <td>Fire</td>\n",
       "      <td>2003-08-10T22:00:00Z</td>\n",
       "      <td>2003-09-09T00:00:00Z</td>\n",
       "    </tr>\n",
       "    <tr>\n",
       "      <th>20109</th>\n",
       "      <td>Fire</td>\n",
       "      <td>2000-05-05T00:00:00Z</td>\n",
       "      <td>2000-06-09T00:00:00Z</td>\n",
       "    </tr>\n",
       "    <tr>\n",
       "      <th>34102</th>\n",
       "      <td>Fire</td>\n",
       "      <td>2008-03-14T00:00:00Z</td>\n",
       "      <td>2008-09-01T00:00:00Z</td>\n",
       "    </tr>\n",
       "    <tr>\n",
       "      <th>33987</th>\n",
       "      <td>Fire</td>\n",
       "      <td>2008-03-14T00:00:00Z</td>\n",
       "      <td>2008-09-01T00:00:00Z</td>\n",
       "    </tr>\n",
       "    <tr>\n",
       "      <th>31146</th>\n",
       "      <td>Fire</td>\n",
       "      <td>2006-01-05T00:00:00Z</td>\n",
       "      <td>NaN</td>\n",
       "    </tr>\n",
       "    <tr>\n",
       "      <th>34013</th>\n",
       "      <td>Fire</td>\n",
       "      <td>2008-03-14T00:00:00Z</td>\n",
       "      <td>2008-09-01T00:00:00Z</td>\n",
       "    </tr>\n",
       "    <tr>\n",
       "      <th>17320</th>\n",
       "      <td>Fire</td>\n",
       "      <td>1998-05-25T00:00:00Z</td>\n",
       "      <td>1998-07-22T00:00:00Z</td>\n",
       "    </tr>\n",
       "    <tr>\n",
       "      <th>59177</th>\n",
       "      <td>Fire</td>\n",
       "      <td>2020-05-06T00:00:00Z</td>\n",
       "      <td>2020-06-02T23:59:00Z</td>\n",
       "    </tr>\n",
       "  </tbody>\n",
       "</table>\n",
       "</div>"
      ],
      "text/plain": [
       "      incident_type   incident_begin_date     incident_end_date\n",
       "27034          Fire  2005-07-16T15:30:00Z  2005-07-18T21:00:00Z\n",
       "18966          Fire  1999-08-01T12:00:00Z  1999-12-10T00:00:00Z\n",
       "48479          Fire  2018-07-18T17:00:00Z  2018-09-08T18:00:00Z\n",
       "48088          Fire  2017-10-08T02:30:00Z  2017-10-31T23:59:00Z\n",
       "15193          Fire  1996-04-25T00:00:00Z  1996-04-25T00:00:00Z\n",
       "31419          Fire  2005-11-27T00:00:00Z  2006-05-14T18:18:00Z\n",
       "31883          Fire  2006-07-24T09:00:00Z  2006-07-29T20:00:00Z\n",
       "24054          Fire  2003-08-10T22:00:00Z  2003-09-09T00:00:00Z\n",
       "20109          Fire  2000-05-05T00:00:00Z  2000-06-09T00:00:00Z\n",
       "34102          Fire  2008-03-14T00:00:00Z  2008-09-01T00:00:00Z\n",
       "33987          Fire  2008-03-14T00:00:00Z  2008-09-01T00:00:00Z\n",
       "31146          Fire  2006-01-05T00:00:00Z                   NaN\n",
       "34013          Fire  2008-03-14T00:00:00Z  2008-09-01T00:00:00Z\n",
       "17320          Fire  1998-05-25T00:00:00Z  1998-07-22T00:00:00Z\n",
       "59177          Fire  2020-05-06T00:00:00Z  2020-06-02T23:59:00Z"
      ]
     },
     "execution_count": 24,
     "metadata": {},
     "output_type": "execute_result"
    }
   ],
   "source": [
    "fire_rows  = df.loc[(df['incident_type']=='Fire') ]\n",
    "new=fire_rows[['incident_type','incident_begin_date','incident_end_date']]\n",
    "new.sample(n=15)"
   ]
  },
  {
   "cell_type": "markdown",
   "id": "029fe932",
   "metadata": {},
   "source": [
    "The dates cannot be assumed . So the rows of category 'Fire' with null values can be removed"
   ]
  },
  {
   "cell_type": "code",
   "execution_count": 25,
   "id": "2be45355",
   "metadata": {},
   "outputs": [
    {
     "data": {
      "text/plain": [
       "(54451, 21)"
      ]
     },
     "execution_count": 25,
     "metadata": {},
     "output_type": "execute_result"
    }
   ],
   "source": [
    "indexes = df.loc[(df['incident_type']=='Fire') & (df['incident_end_date'].isna())].index\n",
    "df.drop(indexes,inplace=True)\n",
    "df.shape"
   ]
  },
  {
   "cell_type": "code",
   "execution_count": 26,
   "id": "f7f94d07",
   "metadata": {},
   "outputs": [
    {
     "data": {
      "text/plain": [
       "fema_declaration_string       0\n",
       "disaster_number               0\n",
       "state                         0\n",
       "declaration_type              0\n",
       "declaration_date              0\n",
       "fy_declared                   0\n",
       "incident_type                 0\n",
       "declaration_title             0\n",
       "ih_program_declared           0\n",
       "ia_program_declared           0\n",
       "pa_program_declared           0\n",
       "hm_program_declared           0\n",
       "incident_begin_date           0\n",
       "incident_end_date             0\n",
       "fips                          0\n",
       "place_code                    0\n",
       "designated_area               0\n",
       "declaration_request_number    0\n",
       "hash                          0\n",
       "last_refresh                  0\n",
       "id                            0\n",
       "dtype: int64"
      ]
     },
     "execution_count": 26,
     "metadata": {},
     "output_type": "execute_result"
    }
   ],
   "source": [
    "df.isnull().sum()"
   ]
  },
  {
   "cell_type": "markdown",
   "id": "2f48cb2a",
   "metadata": {},
   "source": [
    "## Outlier Detection and Handling"
   ]
  },
  {
   "cell_type": "code",
   "execution_count": 27,
   "id": "126d6cbf",
   "metadata": {},
   "outputs": [
    {
     "data": {
      "text/plain": [
       "<AxesSubplot:xlabel='disaster_number'>"
      ]
     },
     "execution_count": 27,
     "metadata": {},
     "output_type": "execute_result"
    },
    {
     "data": {
      "image/png": "[encoded data removed]",
      "text/plain": [
       "<Figure size 432x288 with 1 Axes>"
      ]
     },
     "metadata": {
      "needs_background": "light"
     },
     "output_type": "display_data"
    }
   ],
   "source": [
    "sns.boxplot(df['disaster_number'])"
   ]
  },
  {
   "cell_type": "code",
   "execution_count": 28,
   "id": "bb198ffa",
   "metadata": {},
   "outputs": [
    {
     "data": {
      "text/plain": [
       "<AxesSubplot:xlabel='fips'>"
      ]
     },
     "execution_count": 28,
     "metadata": {},
     "output_type": "execute_result"
    },
    {
     "data": {
      "image/png": "[encoded data removed]",
      "text/plain": [
       "<Figure size 432x288 with 1 Axes>"
      ]
     },
     "metadata": {
      "needs_background": "light"
     },
     "output_type": "display_data"
    }
   ],
   "source": [
    "sns.boxplot(df['fips'])"
   ]
  },
  {
   "cell_type": "code",
   "execution_count": 29,
   "id": "ebc328c2",
   "metadata": {},
   "outputs": [
    {
     "data": {
      "text/plain": [
       "<AxesSubplot:xlabel='declaration_request_number'>"
      ]
     },
     "execution_count": 29,
     "metadata": {},
     "output_type": "execute_result"
    },
    {
     "data": {
      "image/png": "[encoded data removed]",
      "text/plain": [
       "<Figure size 432x288 with 1 Axes>"
      ]
     },
     "metadata": {
      "needs_background": "light"
     },
     "output_type": "display_data"
    }
   ],
   "source": [
    "sns.boxplot(df['declaration_request_number'])"
   ]
  },
  {
   "cell_type": "code",
   "execution_count": 30,
   "id": "9aa92de0",
   "metadata": {},
   "outputs": [
    {
     "data": {
      "text/plain": [
       "<AxesSubplot:xlabel='fy_declared'>"
      ]
     },
     "execution_count": 30,
     "metadata": {},
     "output_type": "execute_result"
    },
    {
     "data": {
      "image/png": "[encoded data removed]",
      "text/plain": [
       "<Figure size 432x288 with 1 Axes>"
      ]
     },
     "metadata": {
      "needs_background": "light"
     },
     "output_type": "display_data"
    }
   ],
   "source": [
    "sns.boxplot(df['fy_declared'])"
   ]
  },
  {
   "cell_type": "code",
   "execution_count": 31,
   "id": "ece94274",
   "metadata": {},
   "outputs": [
    {
     "name": "stdout",
     "output_type": "stream",
     "text": [
      "1971.0\n",
      "2035.0\n",
      "1853 outliers found in the fy_declared values\n"
     ]
    }
   ],
   "source": [
    "Q1=np.percentile(df['fy_declared'],25,interpolation=\"midpoint\")\n",
    "Q3=np.percentile(df['fy_declared'],75,interpolation=\"midpoint\")\n",
    "IQR=Q3-Q1\n",
    "low_lim=Q1-1.5*IQR\n",
    "up_lim=Q3+1.5*IQR\n",
    "print(low_lim)\n",
    "print(up_lim)\n",
    "\n",
    "outlier=[]\n",
    "for x in df['fy_declared']:\n",
    "    if(x>up_lim)or(x<low_lim):\n",
    "        outlier.append(x)\n",
    "print(len(outlier), \"outliers found in the fy_declared values\")"
   ]
  },
  {
   "cell_type": "code",
   "execution_count": 32,
   "id": "8faade92",
   "metadata": {},
   "outputs": [
    {
     "data": {
      "text/plain": [
       "Text(0.5, 1.0, \"Boxplot of the 'fy_declared' values after treating the outliers\")"
      ]
     },
     "execution_count": 32,
     "metadata": {},
     "output_type": "execute_result"
    },
    {
     "data": {
      "image/png": "[encoded data removed]",
      "text/plain": [
       "<Figure size 432x288 with 1 Axes>"
      ]
     },
     "metadata": {
      "needs_background": "light"
     },
     "output_type": "display_data"
    }
   ],
   "source": [
    "# Computing 10th percentiles and replacing the outliers\n",
    "tenth_percentile = int(np.percentile(df['fy_declared'], 10))\n",
    "\n",
    "# the values below 10th percentile are replaced with 10th percentile value\n",
    "df['fy_declared'] = np.where(df['fy_declared']<tenth_percentile, tenth_percentile, df['fy_declared'])\n",
    "\n",
    "sns.boxplot(df['fy_declared'])\n",
    "plt.title(\"Boxplot of the 'fy_declared' values after treating the outliers\")"
   ]
  },
  {
   "cell_type": "code",
   "execution_count": 33,
   "id": "a89fbf6a",
   "metadata": {},
   "outputs": [
    {
     "data": {
      "text/plain": [
       "<AxesSubplot:xlabel='place_code'>"
      ]
     },
     "execution_count": 33,
     "metadata": {},
     "output_type": "execute_result"
    },
    {
     "data": {
      "image/png": "[encoded data removed]",
      "text/plain": [
       "<Figure size 432x288 with 1 Axes>"
      ]
     },
     "metadata": {
      "needs_background": "light"
     },
     "output_type": "display_data"
    }
   ],
   "source": [
    "sns.boxplot(df['place_code'])"
   ]
  },
  {
   "cell_type": "code",
   "execution_count": 34,
   "id": "43338ad6",
   "metadata": {},
   "outputs": [
    {
     "name": "stdout",
     "output_type": "stream",
     "text": [
      "98890.0\n",
      "99266.0\n"
     ]
    }
   ],
   "source": [
    "Q1=np.percentile(df['place_code'],25,interpolation=\"midpoint\")\n",
    "Q3=np.percentile(df['place_code'],75,interpolation=\"midpoint\")\n",
    "IQR=Q3-Q1\n",
    "low_lim=Q1-1.5*IQR\n",
    "up_lim=Q3+1.5*IQR\n",
    "print(low_lim)\n",
    "print(up_lim)"
   ]
  },
  {
   "cell_type": "code",
   "execution_count": 35,
   "id": "51b5ef0a",
   "metadata": {},
   "outputs": [
    {
     "name": "stdout",
     "output_type": "stream",
     "text": [
      "4016 outliers found in the fy_declared values\n"
     ]
    }
   ],
   "source": [
    "outlier=[]\n",
    "for x in df['place_code']:\n",
    "    if(x>up_lim)or(x<low_lim):\n",
    "        outlier.append(x)\n",
    "print(len(outlier), \"outliers found in the fy_declared values\")"
   ]
  },
  {
   "cell_type": "code",
   "execution_count": 36,
   "id": "a6c03cce",
   "metadata": {},
   "outputs": [
    {
     "data": {
      "text/plain": [
       "Text(0.5, 1.0, \"Boxplot of the 'place_code' values after treating the outliers\")"
      ]
     },
     "execution_count": 36,
     "metadata": {},
     "output_type": "execute_result"
    },
    {
     "data": {
      "image/png": "[encoded data removed]",
      "text/plain": [
       "<Figure size 432x288 with 1 Axes>"
      ]
     },
     "metadata": {
      "needs_background": "light"
     },
     "output_type": "display_data"
    }
   ],
   "source": [
    "# Computing 10th ,90th percentiles and replacing the outliers\n",
    "tenth_percentile = int(np.percentile(df['place_code'], 10))\n",
    "ninetieth_percentile = int(np.percentile(df['place_code'], 90))\n",
    "\n",
    "# the values above 90th percentile are replaced with 90th percentile value\n",
    "df['place_code'] = np.where(df['place_code']<tenth_percentile, tenth_percentile, df['place_code'])\n",
    "df['place_code'] = np.where(df['place_code']>ninetieth_percentile, ninetieth_percentile, df['place_code'])\n",
    "\n",
    "sns.boxplot(df['place_code'])\n",
    "plt.title(\"Boxplot of the 'place_code' values after treating the outliers\")"
   ]
  },
  {
   "cell_type": "code",
   "execution_count": 37,
   "id": "22b2fe0c",
   "metadata": {},
   "outputs": [],
   "source": [
    "#for downloading the clean dataset to csv\n",
    "df.to_csv('disaster_data.csv', index=False)"
   ]
  },
  {
   "cell_type": "markdown",
   "id": "414dea0a",
   "metadata": {},
   "source": [
    "### Encoding"
   ]
  },
  {
   "cell_type": "markdown",
   "id": "c3941593",
   "metadata": {},
   "source": [
    "Ordinal Encoding for state, declaration_type ,incident_type ,declaration_title,designated_area"
   ]
  },
  {
   "cell_type": "code",
   "execution_count": 38,
   "id": "bb269c57",
   "metadata": {},
   "outputs": [],
   "source": [
    "from sklearn.preprocessing import OrdinalEncoder\n",
    "\n",
    "columns_to_be_encoded = [ 'state' ,'incident_type' ,'declaration_title','declaration_type','designated_area','fema_declaration_string','hash','id']\n",
    "\n",
    "for column in columns_to_be_encoded:\n",
    "    # Create Ordinal encoder\n",
    "    encoder = OrdinalEncoder()\n",
    "    get_column = df[column]\n",
    "    reshaped_vals = get_column.values.reshape(-1, 1)\n",
    "    # Ordinally encode reshaped_vals\n",
    "    df[column] = encoder.fit_transform(reshaped_vals)"
   ]
  },
  {
   "cell_type": "code",
   "execution_count": 39,
   "id": "dde51d27",
   "metadata": {},
   "outputs": [
    {
     "data": {
      "text/html": [
       "<div>\n",
       "<style scoped>\n",
       "    .dataframe tbody tr th:only-of-type {\n",
       "        vertical-align: middle;\n",
       "    }\n",
       "\n",
       "    .dataframe tbody tr th {\n",
       "        vertical-align: top;\n",
       "    }\n",
       "\n",
       "    .dataframe thead th {\n",
       "        text-align: right;\n",
       "    }\n",
       "</style>\n",
       "<table border=\"1\" class=\"dataframe\">\n",
       "  <thead>\n",
       "    <tr style=\"text-align: right;\">\n",
       "      <th></th>\n",
       "      <th>fema_declaration_string</th>\n",
       "      <th>disaster_number</th>\n",
       "      <th>state</th>\n",
       "      <th>declaration_type</th>\n",
       "      <th>fy_declared</th>\n",
       "      <th>incident_type</th>\n",
       "      <th>declaration_title</th>\n",
       "      <th>ih_program_declared</th>\n",
       "      <th>ia_program_declared</th>\n",
       "      <th>pa_program_declared</th>\n",
       "      <th>hm_program_declared</th>\n",
       "      <th>fips</th>\n",
       "      <th>place_code</th>\n",
       "      <th>designated_area</th>\n",
       "      <th>declaration_request_number</th>\n",
       "      <th>hash</th>\n",
       "      <th>id</th>\n",
       "    </tr>\n",
       "  </thead>\n",
       "  <tbody>\n",
       "    <tr>\n",
       "      <th>count</th>\n",
       "      <td>54451.00000</td>\n",
       "      <td>54451.000000</td>\n",
       "      <td>54451.000000</td>\n",
       "      <td>54451.000000</td>\n",
       "      <td>54451.000000</td>\n",
       "      <td>54451.000000</td>\n",
       "      <td>54451.000000</td>\n",
       "      <td>54451.000000</td>\n",
       "      <td>54451.000000</td>\n",
       "      <td>54451.000000</td>\n",
       "      <td>54451.000000</td>\n",
       "      <td>54451.000000</td>\n",
       "      <td>54451.000000</td>\n",
       "      <td>54451.000000</td>\n",
       "      <td>54451.000000</td>\n",
       "      <td>54451.000000</td>\n",
       "      <td>54451.000000</td>\n",
       "    </tr>\n",
       "    <tr>\n",
       "      <th>mean</th>\n",
       "      <td>1676.75938</td>\n",
       "      <td>2321.471745</td>\n",
       "      <td>30.729702</td>\n",
       "      <td>0.322308</td>\n",
       "      <td>2002.166315</td>\n",
       "      <td>10.831794</td>\n",
       "      <td>1116.881196</td>\n",
       "      <td>0.118639</td>\n",
       "      <td>0.315642</td>\n",
       "      <td>0.923638</td>\n",
       "      <td>0.414226</td>\n",
       "      <td>31893.137959</td>\n",
       "      <td>99082.593047</td>\n",
       "      <td>1090.012654</td>\n",
       "      <td>37626.220216</td>\n",
       "      <td>27225.000000</td>\n",
       "      <td>27225.000000</td>\n",
       "    </tr>\n",
       "    <tr>\n",
       "      <th>std</th>\n",
       "      <td>1010.63639</td>\n",
       "      <td>1350.270304</td>\n",
       "      <td>16.139411</td>\n",
       "      <td>0.518235</td>\n",
       "      <td>13.169753</td>\n",
       "      <td>3.715696</td>\n",
       "      <td>418.081428</td>\n",
       "      <td>0.323366</td>\n",
       "      <td>0.464775</td>\n",
       "      <td>0.265579</td>\n",
       "      <td>0.492592</td>\n",
       "      <td>16611.485599</td>\n",
       "      <td>57.470194</td>\n",
       "      <td>613.054557</td>\n",
       "      <td>37224.497567</td>\n",
       "      <td>15718.794091</td>\n",
       "      <td>15718.794091</td>\n",
       "    </tr>\n",
       "    <tr>\n",
       "      <th>min</th>\n",
       "      <td>0.00000</td>\n",
       "      <td>1.000000</td>\n",
       "      <td>0.000000</td>\n",
       "      <td>0.000000</td>\n",
       "      <td>1977.000000</td>\n",
       "      <td>0.000000</td>\n",
       "      <td>0.000000</td>\n",
       "      <td>0.000000</td>\n",
       "      <td>0.000000</td>\n",
       "      <td>0.000000</td>\n",
       "      <td>0.000000</td>\n",
       "      <td>1000.000000</td>\n",
       "      <td>99009.000000</td>\n",
       "      <td>0.000000</td>\n",
       "      <td>3.000000</td>\n",
       "      <td>0.000000</td>\n",
       "      <td>0.000000</td>\n",
       "    </tr>\n",
       "    <tr>\n",
       "      <th>25%</th>\n",
       "      <td>756.00000</td>\n",
       "      <td>1175.000000</td>\n",
       "      <td>18.000000</td>\n",
       "      <td>0.000000</td>\n",
       "      <td>1995.000000</td>\n",
       "      <td>7.000000</td>\n",
       "      <td>736.000000</td>\n",
       "      <td>0.000000</td>\n",
       "      <td>0.000000</td>\n",
       "      <td>1.000000</td>\n",
       "      <td>0.000000</td>\n",
       "      <td>20013.000000</td>\n",
       "      <td>99031.000000</td>\n",
       "      <td>563.000000</td>\n",
       "      <td>7931.000000</td>\n",
       "      <td>13612.500000</td>\n",
       "      <td>13612.500000</td>\n",
       "    </tr>\n",
       "    <tr>\n",
       "      <th>50%</th>\n",
       "      <td>1651.00000</td>\n",
       "      <td>1889.000000</td>\n",
       "      <td>31.000000</td>\n",
       "      <td>0.000000</td>\n",
       "      <td>2005.000000</td>\n",
       "      <td>10.000000</td>\n",
       "      <td>1262.000000</td>\n",
       "      <td>0.000000</td>\n",
       "      <td>0.000000</td>\n",
       "      <td>1.000000</td>\n",
       "      <td>0.000000</td>\n",
       "      <td>30097.000000</td>\n",
       "      <td>99075.000000</td>\n",
       "      <td>1093.000000</td>\n",
       "      <td>17085.000000</td>\n",
       "      <td>27225.000000</td>\n",
       "      <td>27225.000000</td>\n",
       "    </tr>\n",
       "    <tr>\n",
       "      <th>75%</th>\n",
       "      <td>2684.00000</td>\n",
       "      <td>3348.000000</td>\n",
       "      <td>44.000000</td>\n",
       "      <td>1.000000</td>\n",
       "      <td>2011.000000</td>\n",
       "      <td>14.000000</td>\n",
       "      <td>1427.000000</td>\n",
       "      <td>0.000000</td>\n",
       "      <td>1.000000</td>\n",
       "      <td>1.000000</td>\n",
       "      <td>1.000000</td>\n",
       "      <td>46105.000000</td>\n",
       "      <td>99125.000000</td>\n",
       "      <td>1604.000000</td>\n",
       "      <td>77101.000000</td>\n",
       "      <td>40837.500000</td>\n",
       "      <td>40837.500000</td>\n",
       "    </tr>\n",
       "    <tr>\n",
       "      <th>max</th>\n",
       "      <td>4187.00000</td>\n",
       "      <td>5422.000000</td>\n",
       "      <td>58.000000</td>\n",
       "      <td>2.000000</td>\n",
       "      <td>2022.000000</td>\n",
       "      <td>21.000000</td>\n",
       "      <td>1940.000000</td>\n",
       "      <td>1.000000</td>\n",
       "      <td>1.000000</td>\n",
       "      <td>1.000000</td>\n",
       "      <td>1.000000</td>\n",
       "      <td>78030.000000</td>\n",
       "      <td>99185.000000</td>\n",
       "      <td>2178.000000</td>\n",
       "      <td>99159.000000</td>\n",
       "      <td>54450.000000</td>\n",
       "      <td>54450.000000</td>\n",
       "    </tr>\n",
       "  </tbody>\n",
       "</table>\n",
       "</div>"
      ],
      "text/plain": [
       "       fema_declaration_string  disaster_number         state  \\\n",
       "count              54451.00000     54451.000000  54451.000000   \n",
       "mean                1676.75938      2321.471745     30.729702   \n",
       "std                 1010.63639      1350.270304     16.139411   \n",
       "min                    0.00000         1.000000      0.000000   \n",
       "25%                  756.00000      1175.000000     18.000000   \n",
       "50%                 1651.00000      1889.000000     31.000000   \n",
       "75%                 2684.00000      3348.000000     44.000000   \n",
       "max                 4187.00000      5422.000000     58.000000   \n",
       "\n",
       "       declaration_type   fy_declared  incident_type  declaration_title  \\\n",
       "count      54451.000000  54451.000000   54451.000000       54451.000000   \n",
       "mean           0.322308   2002.166315      10.831794        1116.881196   \n",
       "std            0.518235     13.169753       3.715696         418.081428   \n",
       "min            0.000000   1977.000000       0.000000           0.000000   \n",
       "25%            0.000000   1995.000000       7.000000         736.000000   \n",
       "50%            0.000000   2005.000000      10.000000        1262.000000   \n",
       "75%            1.000000   2011.000000      14.000000        1427.000000   \n",
       "max            2.000000   2022.000000      21.000000        1940.000000   \n",
       "\n",
       "       ih_program_declared  ia_program_declared  pa_program_declared  \\\n",
       "count         54451.000000         54451.000000         54451.000000   \n",
       "mean              0.118639             0.315642             0.923638   \n",
       "std               0.323366             0.464775             0.265579   \n",
       "min               0.000000             0.000000             0.000000   \n",
       "25%               0.000000             0.000000             1.000000   \n",
       "50%               0.000000             0.000000             1.000000   \n",
       "75%               0.000000             1.000000             1.000000   \n",
       "max               1.000000             1.000000             1.000000   \n",
       "\n",
       "       hm_program_declared          fips    place_code  designated_area  \\\n",
       "count         54451.000000  54451.000000  54451.000000     54451.000000   \n",
       "mean              0.414226  31893.137959  99082.593047      1090.012654   \n",
       "std               0.492592  16611.485599     57.470194       613.054557   \n",
       "min               0.000000   1000.000000  99009.000000         0.000000   \n",
       "25%               0.000000  20013.000000  99031.000000       563.000000   \n",
       "50%               0.000000  30097.000000  99075.000000      1093.000000   \n",
       "75%               1.000000  46105.000000  99125.000000      1604.000000   \n",
       "max               1.000000  78030.000000  99185.000000      2178.000000   \n",
       "\n",
       "       declaration_request_number          hash            id  \n",
       "count                54451.000000  54451.000000  54451.000000  \n",
       "mean                 37626.220216  27225.000000  27225.000000  \n",
       "std                  37224.497567  15718.794091  15718.794091  \n",
       "min                      3.000000      0.000000      0.000000  \n",
       "25%                   7931.000000  13612.500000  13612.500000  \n",
       "50%                  17085.000000  27225.000000  27225.000000  \n",
       "75%                  77101.000000  40837.500000  40837.500000  \n",
       "max                  99159.000000  54450.000000  54450.000000  "
      ]
     },
     "execution_count": 39,
     "metadata": {},
     "output_type": "execute_result"
    }
   ],
   "source": [
    "df.describe()"
   ]
  },
  {
   "cell_type": "markdown",
   "id": "4b982eb3",
   "metadata": {},
   "source": [
    "### Feature selection"
   ]
  },
  {
   "cell_type": "code",
   "execution_count": 44,
   "id": "66345784",
   "metadata": {},
   "outputs": [
    {
     "data": {
      "text/html": [
       "<div>\n",
       "<style scoped>\n",
       "    .dataframe tbody tr th:only-of-type {\n",
       "        vertical-align: middle;\n",
       "    }\n",
       "\n",
       "    .dataframe tbody tr th {\n",
       "        vertical-align: top;\n",
       "    }\n",
       "\n",
       "    .dataframe thead th {\n",
       "        text-align: right;\n",
       "    }\n",
       "</style>\n",
       "<table border=\"1\" class=\"dataframe\">\n",
       "  <thead>\n",
       "    <tr style=\"text-align: right;\">\n",
       "      <th></th>\n",
       "      <th>features</th>\n",
       "      <th>score</th>\n",
       "    </tr>\n",
       "  </thead>\n",
       "  <tbody>\n",
       "    <tr>\n",
       "      <th>0</th>\n",
       "      <td>fema_declaration_string</td>\n",
       "      <td>88308.587892</td>\n",
       "    </tr>\n",
       "    <tr>\n",
       "      <th>1</th>\n",
       "      <td>disaster_number</td>\n",
       "      <td>13148.647362</td>\n",
       "    </tr>\n",
       "    <tr>\n",
       "      <th>2</th>\n",
       "      <td>state</td>\n",
       "      <td>21.422907</td>\n",
       "    </tr>\n",
       "    <tr>\n",
       "      <th>3</th>\n",
       "      <td>fy_declared</td>\n",
       "      <td>1295.059090</td>\n",
       "    </tr>\n",
       "    <tr>\n",
       "      <th>4</th>\n",
       "      <td>incident_type</td>\n",
       "      <td>3678.488233</td>\n",
       "    </tr>\n",
       "    <tr>\n",
       "      <th>5</th>\n",
       "      <td>declaration_title</td>\n",
       "      <td>4493.145170</td>\n",
       "    </tr>\n",
       "    <tr>\n",
       "      <th>6</th>\n",
       "      <td>ih_program_declared</td>\n",
       "      <td>2960.550113</td>\n",
       "    </tr>\n",
       "    <tr>\n",
       "      <th>7</th>\n",
       "      <td>ia_program_declared</td>\n",
       "      <td>11127.715191</td>\n",
       "    </tr>\n",
       "    <tr>\n",
       "      <th>8</th>\n",
       "      <td>pa_program_declared</td>\n",
       "      <td>1540.717848</td>\n",
       "    </tr>\n",
       "    <tr>\n",
       "      <th>9</th>\n",
       "      <td>hm_program_declared</td>\n",
       "      <td>16413.453286</td>\n",
       "    </tr>\n",
       "    <tr>\n",
       "      <th>10</th>\n",
       "      <td>fips</td>\n",
       "      <td>7.324571</td>\n",
       "    </tr>\n",
       "    <tr>\n",
       "      <th>11</th>\n",
       "      <td>place_code</td>\n",
       "      <td>38.415760</td>\n",
       "    </tr>\n",
       "    <tr>\n",
       "      <th>12</th>\n",
       "      <td>designated_area</td>\n",
       "      <td>22.454571</td>\n",
       "    </tr>\n",
       "    <tr>\n",
       "      <th>13</th>\n",
       "      <td>declaration_request_number</td>\n",
       "      <td>1362.493839</td>\n",
       "    </tr>\n",
       "    <tr>\n",
       "      <th>14</th>\n",
       "      <td>hash</td>\n",
       "      <td>1.407252</td>\n",
       "    </tr>\n",
       "    <tr>\n",
       "      <th>15</th>\n",
       "      <td>id</td>\n",
       "      <td>11441.295176</td>\n",
       "    </tr>\n",
       "  </tbody>\n",
       "</table>\n",
       "</div>"
      ],
      "text/plain": [
       "                      features         score\n",
       "0      fema_declaration_string  88308.587892\n",
       "1              disaster_number  13148.647362\n",
       "2                        state     21.422907\n",
       "3                  fy_declared   1295.059090\n",
       "4                incident_type   3678.488233\n",
       "5            declaration_title   4493.145170\n",
       "6          ih_program_declared   2960.550113\n",
       "7          ia_program_declared  11127.715191\n",
       "8          pa_program_declared   1540.717848\n",
       "9          hm_program_declared  16413.453286\n",
       "10                        fips      7.324571\n",
       "11                  place_code     38.415760\n",
       "12             designated_area     22.454571\n",
       "13  declaration_request_number   1362.493839\n",
       "14                        hash      1.407252\n",
       "15                          id  11441.295176"
      ]
     },
     "execution_count": 44,
     "metadata": {},
     "output_type": "execute_result"
    }
   ],
   "source": [
    "from sklearn.feature_selection import SelectKBest\n",
    "from sklearn.feature_selection import f_regression\n",
    "\n",
    "bestfeaturesModel = SelectKBest(score_func=f_regression,k=10)\n",
    "\n",
    "target_column = df['declaration_type']\n",
    "X=df.loc[:, ~ df.columns.isin(['declaration_date', 'incident_begin_date','incident_end_date','disaster_closeout_date','last_refresh'])]\n",
    "X=X.drop('declaration_type',axis=1)\n",
    "y = target_column.values.reshape(-1,1)\n",
    "\n",
    "results= bestfeaturesModel.fit(X,y)\n",
    "\n",
    "dfscores=pd.DataFrame(results.scores_)\n",
    "dfcolumns = pd.DataFrame(X.columns)\n",
    "featureScores=pd.concat([dfcolumns,dfscores],axis=1)\n",
    "featureScores.columns=['features','score']\n",
    "featureScores"
   ]
  },
  {
   "cell_type": "code",
   "execution_count": 45,
   "id": "e6f564d7",
   "metadata": {},
   "outputs": [
    {
     "data": {
      "text/html": [
       "<div>\n",
       "<style scoped>\n",
       "    .dataframe tbody tr th:only-of-type {\n",
       "        vertical-align: middle;\n",
       "    }\n",
       "\n",
       "    .dataframe tbody tr th {\n",
       "        vertical-align: top;\n",
       "    }\n",
       "\n",
       "    .dataframe thead th {\n",
       "        text-align: right;\n",
       "    }\n",
       "</style>\n",
       "<table border=\"1\" class=\"dataframe\">\n",
       "  <thead>\n",
       "    <tr style=\"text-align: right;\">\n",
       "      <th></th>\n",
       "      <th>fema_declaration_string</th>\n",
       "      <th>disaster_number</th>\n",
       "      <th>state</th>\n",
       "      <th>declaration_type</th>\n",
       "      <th>fy_declared</th>\n",
       "      <th>incident_type</th>\n",
       "      <th>declaration_title</th>\n",
       "      <th>ih_program_declared</th>\n",
       "      <th>ia_program_declared</th>\n",
       "      <th>pa_program_declared</th>\n",
       "      <th>hm_program_declared</th>\n",
       "      <th>declaration_request_number</th>\n",
       "      <th>id</th>\n",
       "    </tr>\n",
       "  </thead>\n",
       "  <tbody>\n",
       "    <tr>\n",
       "      <th>0</th>\n",
       "      <td>0.0</td>\n",
       "      <td>1</td>\n",
       "      <td>12.0</td>\n",
       "      <td>0.0</td>\n",
       "      <td>1977</td>\n",
       "      <td>17.0</td>\n",
       "      <td>1631.0</td>\n",
       "      <td>0</td>\n",
       "      <td>1</td>\n",
       "      <td>1</td>\n",
       "      <td>1</td>\n",
       "      <td>53013</td>\n",
       "      <td>8.0</td>\n",
       "    </tr>\n",
       "    <tr>\n",
       "      <th>1</th>\n",
       "      <td>1109.0</td>\n",
       "      <td>2</td>\n",
       "      <td>50.0</td>\n",
       "      <td>0.0</td>\n",
       "      <td>1977</td>\n",
       "      <td>17.0</td>\n",
       "      <td>1632.0</td>\n",
       "      <td>0</td>\n",
       "      <td>1</td>\n",
       "      <td>1</td>\n",
       "      <td>1</td>\n",
       "      <td>53003</td>\n",
       "      <td>9.0</td>\n",
       "    </tr>\n",
       "    <tr>\n",
       "      <th>2</th>\n",
       "      <td>1218.0</td>\n",
       "      <td>3</td>\n",
       "      <td>21.0</td>\n",
       "      <td>0.0</td>\n",
       "      <td>1977</td>\n",
       "      <td>7.0</td>\n",
       "      <td>459.0</td>\n",
       "      <td>0</td>\n",
       "      <td>1</td>\n",
       "      <td>1</td>\n",
       "      <td>1</td>\n",
       "      <td>53005</td>\n",
       "      <td>6.0</td>\n",
       "    </tr>\n",
       "    <tr>\n",
       "      <th>3</th>\n",
       "      <td>1329.0</td>\n",
       "      <td>4</td>\n",
       "      <td>26.0</td>\n",
       "      <td>0.0</td>\n",
       "      <td>1977</td>\n",
       "      <td>17.0</td>\n",
       "      <td>1631.0</td>\n",
       "      <td>0</td>\n",
       "      <td>1</td>\n",
       "      <td>1</td>\n",
       "      <td>1</td>\n",
       "      <td>53004</td>\n",
       "      <td>7.0</td>\n",
       "    </tr>\n",
       "    <tr>\n",
       "      <th>4</th>\n",
       "      <td>2020.0</td>\n",
       "      <td>5</td>\n",
       "      <td>31.0</td>\n",
       "      <td>0.0</td>\n",
       "      <td>1977</td>\n",
       "      <td>7.0</td>\n",
       "      <td>487.0</td>\n",
       "      <td>0</td>\n",
       "      <td>1</td>\n",
       "      <td>1</td>\n",
       "      <td>1</td>\n",
       "      <td>53006</td>\n",
       "      <td>5.0</td>\n",
       "    </tr>\n",
       "    <tr>\n",
       "      <th>...</th>\n",
       "      <td>...</td>\n",
       "      <td>...</td>\n",
       "      <td>...</td>\n",
       "      <td>...</td>\n",
       "      <td>...</td>\n",
       "      <td>...</td>\n",
       "      <td>...</td>\n",
       "      <td>...</td>\n",
       "      <td>...</td>\n",
       "      <td>...</td>\n",
       "      <td>...</td>\n",
       "      <td>...</td>\n",
       "      <td>...</td>\n",
       "    </tr>\n",
       "    <tr>\n",
       "      <th>62766</th>\n",
       "      <td>1979.0</td>\n",
       "      <td>4637</td>\n",
       "      <td>49.0</td>\n",
       "      <td>0.0</td>\n",
       "      <td>2022</td>\n",
       "      <td>17.0</td>\n",
       "      <td>1365.0</td>\n",
       "      <td>1</td>\n",
       "      <td>0</td>\n",
       "      <td>1</td>\n",
       "      <td>1</td>\n",
       "      <td>21130</td>\n",
       "      <td>54439.0</td>\n",
       "    </tr>\n",
       "    <tr>\n",
       "      <th>62767</th>\n",
       "      <td>1979.0</td>\n",
       "      <td>4637</td>\n",
       "      <td>49.0</td>\n",
       "      <td>0.0</td>\n",
       "      <td>2022</td>\n",
       "      <td>17.0</td>\n",
       "      <td>1365.0</td>\n",
       "      <td>1</td>\n",
       "      <td>0</td>\n",
       "      <td>1</td>\n",
       "      <td>1</td>\n",
       "      <td>21130</td>\n",
       "      <td>54440.0</td>\n",
       "    </tr>\n",
       "    <tr>\n",
       "      <th>62768</th>\n",
       "      <td>1979.0</td>\n",
       "      <td>4637</td>\n",
       "      <td>49.0</td>\n",
       "      <td>0.0</td>\n",
       "      <td>2022</td>\n",
       "      <td>17.0</td>\n",
       "      <td>1365.0</td>\n",
       "      <td>0</td>\n",
       "      <td>0</td>\n",
       "      <td>1</td>\n",
       "      <td>1</td>\n",
       "      <td>21130</td>\n",
       "      <td>54448.0</td>\n",
       "    </tr>\n",
       "    <tr>\n",
       "      <th>62769</th>\n",
       "      <td>1979.0</td>\n",
       "      <td>4637</td>\n",
       "      <td>49.0</td>\n",
       "      <td>0.0</td>\n",
       "      <td>2022</td>\n",
       "      <td>17.0</td>\n",
       "      <td>1365.0</td>\n",
       "      <td>0</td>\n",
       "      <td>0</td>\n",
       "      <td>1</td>\n",
       "      <td>1</td>\n",
       "      <td>21130</td>\n",
       "      <td>54449.0</td>\n",
       "    </tr>\n",
       "    <tr>\n",
       "      <th>62770</th>\n",
       "      <td>1980.0</td>\n",
       "      <td>4638</td>\n",
       "      <td>0.0</td>\n",
       "      <td>0.0</td>\n",
       "      <td>2022</td>\n",
       "      <td>14.0</td>\n",
       "      <td>1368.0</td>\n",
       "      <td>0</td>\n",
       "      <td>0</td>\n",
       "      <td>1</td>\n",
       "      <td>1</td>\n",
       "      <td>21131</td>\n",
       "      <td>54441.0</td>\n",
       "    </tr>\n",
       "  </tbody>\n",
       "</table>\n",
       "<p>54451 rows × 13 columns</p>\n",
       "</div>"
      ],
      "text/plain": [
       "       fema_declaration_string  disaster_number  state  declaration_type  \\\n",
       "0                          0.0                1   12.0               0.0   \n",
       "1                       1109.0                2   50.0               0.0   \n",
       "2                       1218.0                3   21.0               0.0   \n",
       "3                       1329.0                4   26.0               0.0   \n",
       "4                       2020.0                5   31.0               0.0   \n",
       "...                        ...              ...    ...               ...   \n",
       "62766                   1979.0             4637   49.0               0.0   \n",
       "62767                   1979.0             4637   49.0               0.0   \n",
       "62768                   1979.0             4637   49.0               0.0   \n",
       "62769                   1979.0             4637   49.0               0.0   \n",
       "62770                   1980.0             4638    0.0               0.0   \n",
       "\n",
       "       fy_declared  incident_type  declaration_title  ih_program_declared  \\\n",
       "0             1977           17.0             1631.0                    0   \n",
       "1             1977           17.0             1632.0                    0   \n",
       "2             1977            7.0              459.0                    0   \n",
       "3             1977           17.0             1631.0                    0   \n",
       "4             1977            7.0              487.0                    0   \n",
       "...            ...            ...                ...                  ...   \n",
       "62766         2022           17.0             1365.0                    1   \n",
       "62767         2022           17.0             1365.0                    1   \n",
       "62768         2022           17.0             1365.0                    0   \n",
       "62769         2022           17.0             1365.0                    0   \n",
       "62770         2022           14.0             1368.0                    0   \n",
       "\n",
       "       ia_program_declared  pa_program_declared  hm_program_declared  \\\n",
       "0                        1                    1                    1   \n",
       "1                        1                    1                    1   \n",
       "2                        1                    1                    1   \n",
       "3                        1                    1                    1   \n",
       "4                        1                    1                    1   \n",
       "...                    ...                  ...                  ...   \n",
       "62766                    0                    1                    1   \n",
       "62767                    0                    1                    1   \n",
       "62768                    0                    1                    1   \n",
       "62769                    0                    1                    1   \n",
       "62770                    0                    1                    1   \n",
       "\n",
       "       declaration_request_number       id  \n",
       "0                           53013      8.0  \n",
       "1                           53003      9.0  \n",
       "2                           53005      6.0  \n",
       "3                           53004      7.0  \n",
       "4                           53006      5.0  \n",
       "...                           ...      ...  \n",
       "62766                       21130  54439.0  \n",
       "62767                       21130  54440.0  \n",
       "62768                       21130  54448.0  \n",
       "62769                       21130  54449.0  \n",
       "62770                       21131  54441.0  \n",
       "\n",
       "[54451 rows x 13 columns]"
      ]
     },
     "execution_count": 45,
     "metadata": {},
     "output_type": "execute_result"
    }
   ],
   "source": [
    "X=df.loc[:, ~ df.columns.isin(['declaration_date', 'incident_begin_date','incident_end_date','disaster_closeout_date','last_refresh','fips','place_code','designated_area','hash'])]\n",
    "X"
   ]
  },
  {
   "cell_type": "code",
   "execution_count": 46,
   "id": "baaf18b3",
   "metadata": {},
   "outputs": [
    {
     "data": {
      "text/html": [
       "<div>\n",
       "<style scoped>\n",
       "    .dataframe tbody tr th:only-of-type {\n",
       "        vertical-align: middle;\n",
       "    }\n",
       "\n",
       "    .dataframe tbody tr th {\n",
       "        vertical-align: top;\n",
       "    }\n",
       "\n",
       "    .dataframe thead th {\n",
       "        text-align: right;\n",
       "    }\n",
       "</style>\n",
       "<table border=\"1\" class=\"dataframe\">\n",
       "  <thead>\n",
       "    <tr style=\"text-align: right;\">\n",
       "      <th></th>\n",
       "      <th>state</th>\n",
       "      <th>declaration_type</th>\n",
       "      <th>fy_declared</th>\n",
       "      <th>incident_type</th>\n",
       "      <th>declaration_title</th>\n",
       "      <th>ih_program_declared</th>\n",
       "      <th>ia_program_declared</th>\n",
       "      <th>pa_program_declared</th>\n",
       "      <th>hm_program_declared</th>\n",
       "    </tr>\n",
       "  </thead>\n",
       "  <tbody>\n",
       "    <tr>\n",
       "      <th>0</th>\n",
       "      <td>12.0</td>\n",
       "      <td>0.0</td>\n",
       "      <td>1977</td>\n",
       "      <td>17.0</td>\n",
       "      <td>1631.0</td>\n",
       "      <td>0</td>\n",
       "      <td>1</td>\n",
       "      <td>1</td>\n",
       "      <td>1</td>\n",
       "    </tr>\n",
       "    <tr>\n",
       "      <th>1</th>\n",
       "      <td>50.0</td>\n",
       "      <td>0.0</td>\n",
       "      <td>1977</td>\n",
       "      <td>17.0</td>\n",
       "      <td>1632.0</td>\n",
       "      <td>0</td>\n",
       "      <td>1</td>\n",
       "      <td>1</td>\n",
       "      <td>1</td>\n",
       "    </tr>\n",
       "    <tr>\n",
       "      <th>2</th>\n",
       "      <td>21.0</td>\n",
       "      <td>0.0</td>\n",
       "      <td>1977</td>\n",
       "      <td>7.0</td>\n",
       "      <td>459.0</td>\n",
       "      <td>0</td>\n",
       "      <td>1</td>\n",
       "      <td>1</td>\n",
       "      <td>1</td>\n",
       "    </tr>\n",
       "    <tr>\n",
       "      <th>3</th>\n",
       "      <td>26.0</td>\n",
       "      <td>0.0</td>\n",
       "      <td>1977</td>\n",
       "      <td>17.0</td>\n",
       "      <td>1631.0</td>\n",
       "      <td>0</td>\n",
       "      <td>1</td>\n",
       "      <td>1</td>\n",
       "      <td>1</td>\n",
       "    </tr>\n",
       "    <tr>\n",
       "      <th>4</th>\n",
       "      <td>31.0</td>\n",
       "      <td>0.0</td>\n",
       "      <td>1977</td>\n",
       "      <td>7.0</td>\n",
       "      <td>487.0</td>\n",
       "      <td>0</td>\n",
       "      <td>1</td>\n",
       "      <td>1</td>\n",
       "      <td>1</td>\n",
       "    </tr>\n",
       "    <tr>\n",
       "      <th>...</th>\n",
       "      <td>...</td>\n",
       "      <td>...</td>\n",
       "      <td>...</td>\n",
       "      <td>...</td>\n",
       "      <td>...</td>\n",
       "      <td>...</td>\n",
       "      <td>...</td>\n",
       "      <td>...</td>\n",
       "      <td>...</td>\n",
       "    </tr>\n",
       "    <tr>\n",
       "      <th>62766</th>\n",
       "      <td>49.0</td>\n",
       "      <td>0.0</td>\n",
       "      <td>2022</td>\n",
       "      <td>17.0</td>\n",
       "      <td>1365.0</td>\n",
       "      <td>1</td>\n",
       "      <td>0</td>\n",
       "      <td>1</td>\n",
       "      <td>1</td>\n",
       "    </tr>\n",
       "    <tr>\n",
       "      <th>62767</th>\n",
       "      <td>49.0</td>\n",
       "      <td>0.0</td>\n",
       "      <td>2022</td>\n",
       "      <td>17.0</td>\n",
       "      <td>1365.0</td>\n",
       "      <td>1</td>\n",
       "      <td>0</td>\n",
       "      <td>1</td>\n",
       "      <td>1</td>\n",
       "    </tr>\n",
       "    <tr>\n",
       "      <th>62768</th>\n",
       "      <td>49.0</td>\n",
       "      <td>0.0</td>\n",
       "      <td>2022</td>\n",
       "      <td>17.0</td>\n",
       "      <td>1365.0</td>\n",
       "      <td>0</td>\n",
       "      <td>0</td>\n",
       "      <td>1</td>\n",
       "      <td>1</td>\n",
       "    </tr>\n",
       "    <tr>\n",
       "      <th>62769</th>\n",
       "      <td>49.0</td>\n",
       "      <td>0.0</td>\n",
       "      <td>2022</td>\n",
       "      <td>17.0</td>\n",
       "      <td>1365.0</td>\n",
       "      <td>0</td>\n",
       "      <td>0</td>\n",
       "      <td>1</td>\n",
       "      <td>1</td>\n",
       "    </tr>\n",
       "    <tr>\n",
       "      <th>62770</th>\n",
       "      <td>0.0</td>\n",
       "      <td>0.0</td>\n",
       "      <td>2022</td>\n",
       "      <td>14.0</td>\n",
       "      <td>1368.0</td>\n",
       "      <td>0</td>\n",
       "      <td>0</td>\n",
       "      <td>1</td>\n",
       "      <td>1</td>\n",
       "    </tr>\n",
       "  </tbody>\n",
       "</table>\n",
       "<p>54451 rows × 9 columns</p>\n",
       "</div>"
      ],
      "text/plain": [
       "       state  declaration_type  fy_declared  incident_type  declaration_title  \\\n",
       "0       12.0               0.0         1977           17.0             1631.0   \n",
       "1       50.0               0.0         1977           17.0             1632.0   \n",
       "2       21.0               0.0         1977            7.0              459.0   \n",
       "3       26.0               0.0         1977           17.0             1631.0   \n",
       "4       31.0               0.0         1977            7.0              487.0   \n",
       "...      ...               ...          ...            ...                ...   \n",
       "62766   49.0               0.0         2022           17.0             1365.0   \n",
       "62767   49.0               0.0         2022           17.0             1365.0   \n",
       "62768   49.0               0.0         2022           17.0             1365.0   \n",
       "62769   49.0               0.0         2022           17.0             1365.0   \n",
       "62770    0.0               0.0         2022           14.0             1368.0   \n",
       "\n",
       "       ih_program_declared  ia_program_declared  pa_program_declared  \\\n",
       "0                        0                    1                    1   \n",
       "1                        0                    1                    1   \n",
       "2                        0                    1                    1   \n",
       "3                        0                    1                    1   \n",
       "4                        0                    1                    1   \n",
       "...                    ...                  ...                  ...   \n",
       "62766                    1                    0                    1   \n",
       "62767                    1                    0                    1   \n",
       "62768                    0                    0                    1   \n",
       "62769                    0                    0                    1   \n",
       "62770                    0                    0                    1   \n",
       "\n",
       "       hm_program_declared  \n",
       "0                        1  \n",
       "1                        1  \n",
       "2                        1  \n",
       "3                        1  \n",
       "4                        1  \n",
       "...                    ...  \n",
       "62766                    1  \n",
       "62767                    1  \n",
       "62768                    1  \n",
       "62769                    1  \n",
       "62770                    1  \n",
       "\n",
       "[54451 rows x 9 columns]"
      ]
     },
     "execution_count": 46,
     "metadata": {},
     "output_type": "execute_result"
    }
   ],
   "source": [
    "X=X.drop(['fema_declaration_string','disaster_number','declaration_request_number','id'],axis=1)\n",
    "X"
   ]
  },
  {
   "cell_type": "markdown",
   "id": "2a6644ce",
   "metadata": {},
   "source": [
    "### Standardization"
   ]
  },
  {
   "cell_type": "code",
   "execution_count": 47,
   "id": "3fa69182",
   "metadata": {},
   "outputs": [
    {
     "data": {
      "text/html": [
       "<div>\n",
       "<style scoped>\n",
       "    .dataframe tbody tr th:only-of-type {\n",
       "        vertical-align: middle;\n",
       "    }\n",
       "\n",
       "    .dataframe tbody tr th {\n",
       "        vertical-align: top;\n",
       "    }\n",
       "\n",
       "    .dataframe thead th {\n",
       "        text-align: right;\n",
       "    }\n",
       "</style>\n",
       "<table border=\"1\" class=\"dataframe\">\n",
       "  <thead>\n",
       "    <tr style=\"text-align: right;\">\n",
       "      <th></th>\n",
       "      <th>state</th>\n",
       "      <th>declaration_type</th>\n",
       "      <th>fy_declared</th>\n",
       "      <th>incident_type</th>\n",
       "      <th>declaration_title</th>\n",
       "      <th>ih_program_declared</th>\n",
       "      <th>ia_program_declared</th>\n",
       "      <th>pa_program_declared</th>\n",
       "      <th>hm_program_declared</th>\n",
       "    </tr>\n",
       "  </thead>\n",
       "  <tbody>\n",
       "    <tr>\n",
       "      <th>0</th>\n",
       "      <td>-1.160505</td>\n",
       "      <td>-0.62194</td>\n",
       "      <td>-1.910935</td>\n",
       "      <td>1.660056</td>\n",
       "      <td>1.229721</td>\n",
       "      <td>-0.36689</td>\n",
       "      <td>1.472464</td>\n",
       "      <td>0.287534</td>\n",
       "      <td>1.189178</td>\n",
       "    </tr>\n",
       "    <tr>\n",
       "      <th>1</th>\n",
       "      <td>1.194001</td>\n",
       "      <td>-0.62194</td>\n",
       "      <td>-1.910935</td>\n",
       "      <td>1.660056</td>\n",
       "      <td>1.232113</td>\n",
       "      <td>-0.36689</td>\n",
       "      <td>1.472464</td>\n",
       "      <td>0.287534</td>\n",
       "      <td>1.189178</td>\n",
       "    </tr>\n",
       "    <tr>\n",
       "      <th>2</th>\n",
       "      <td>-0.602859</td>\n",
       "      <td>-0.62194</td>\n",
       "      <td>-1.910935</td>\n",
       "      <td>-1.031255</td>\n",
       "      <td>-1.573586</td>\n",
       "      <td>-0.36689</td>\n",
       "      <td>1.472464</td>\n",
       "      <td>0.287534</td>\n",
       "      <td>1.189178</td>\n",
       "    </tr>\n",
       "    <tr>\n",
       "      <th>3</th>\n",
       "      <td>-0.293056</td>\n",
       "      <td>-0.62194</td>\n",
       "      <td>-1.910935</td>\n",
       "      <td>1.660056</td>\n",
       "      <td>1.229721</td>\n",
       "      <td>-0.36689</td>\n",
       "      <td>1.472464</td>\n",
       "      <td>0.287534</td>\n",
       "      <td>1.189178</td>\n",
       "    </tr>\n",
       "    <tr>\n",
       "      <th>4</th>\n",
       "      <td>0.016748</td>\n",
       "      <td>-0.62194</td>\n",
       "      <td>-1.910935</td>\n",
       "      <td>-1.031255</td>\n",
       "      <td>-1.506613</td>\n",
       "      <td>-0.36689</td>\n",
       "      <td>1.472464</td>\n",
       "      <td>0.287534</td>\n",
       "      <td>1.189178</td>\n",
       "    </tr>\n",
       "    <tr>\n",
       "      <th>...</th>\n",
       "      <td>...</td>\n",
       "      <td>...</td>\n",
       "      <td>...</td>\n",
       "      <td>...</td>\n",
       "      <td>...</td>\n",
       "      <td>...</td>\n",
       "      <td>...</td>\n",
       "      <td>...</td>\n",
       "      <td>...</td>\n",
       "    </tr>\n",
       "    <tr>\n",
       "      <th>62766</th>\n",
       "      <td>1.132040</td>\n",
       "      <td>-0.62194</td>\n",
       "      <td>1.506017</td>\n",
       "      <td>1.660056</td>\n",
       "      <td>0.593475</td>\n",
       "      <td>2.72561</td>\n",
       "      <td>-0.679134</td>\n",
       "      <td>0.287534</td>\n",
       "      <td>1.189178</td>\n",
       "    </tr>\n",
       "    <tr>\n",
       "      <th>62767</th>\n",
       "      <td>1.132040</td>\n",
       "      <td>-0.62194</td>\n",
       "      <td>1.506017</td>\n",
       "      <td>1.660056</td>\n",
       "      <td>0.593475</td>\n",
       "      <td>2.72561</td>\n",
       "      <td>-0.679134</td>\n",
       "      <td>0.287534</td>\n",
       "      <td>1.189178</td>\n",
       "    </tr>\n",
       "    <tr>\n",
       "      <th>62768</th>\n",
       "      <td>1.132040</td>\n",
       "      <td>-0.62194</td>\n",
       "      <td>1.506017</td>\n",
       "      <td>1.660056</td>\n",
       "      <td>0.593475</td>\n",
       "      <td>-0.36689</td>\n",
       "      <td>-0.679134</td>\n",
       "      <td>0.287534</td>\n",
       "      <td>1.189178</td>\n",
       "    </tr>\n",
       "    <tr>\n",
       "      <th>62769</th>\n",
       "      <td>1.132040</td>\n",
       "      <td>-0.62194</td>\n",
       "      <td>1.506017</td>\n",
       "      <td>1.660056</td>\n",
       "      <td>0.593475</td>\n",
       "      <td>-0.36689</td>\n",
       "      <td>-0.679134</td>\n",
       "      <td>0.287534</td>\n",
       "      <td>1.189178</td>\n",
       "    </tr>\n",
       "    <tr>\n",
       "      <th>62770</th>\n",
       "      <td>-1.904034</td>\n",
       "      <td>-0.62194</td>\n",
       "      <td>1.506017</td>\n",
       "      <td>0.852663</td>\n",
       "      <td>0.600651</td>\n",
       "      <td>-0.36689</td>\n",
       "      <td>-0.679134</td>\n",
       "      <td>0.287534</td>\n",
       "      <td>1.189178</td>\n",
       "    </tr>\n",
       "  </tbody>\n",
       "</table>\n",
       "<p>54451 rows × 9 columns</p>\n",
       "</div>"
      ],
      "text/plain": [
       "          state  declaration_type  fy_declared  incident_type  \\\n",
       "0     -1.160505          -0.62194    -1.910935       1.660056   \n",
       "1      1.194001          -0.62194    -1.910935       1.660056   \n",
       "2     -0.602859          -0.62194    -1.910935      -1.031255   \n",
       "3     -0.293056          -0.62194    -1.910935       1.660056   \n",
       "4      0.016748          -0.62194    -1.910935      -1.031255   \n",
       "...         ...               ...          ...            ...   \n",
       "62766  1.132040          -0.62194     1.506017       1.660056   \n",
       "62767  1.132040          -0.62194     1.506017       1.660056   \n",
       "62768  1.132040          -0.62194     1.506017       1.660056   \n",
       "62769  1.132040          -0.62194     1.506017       1.660056   \n",
       "62770 -1.904034          -0.62194     1.506017       0.852663   \n",
       "\n",
       "       declaration_title  ih_program_declared  ia_program_declared  \\\n",
       "0               1.229721             -0.36689             1.472464   \n",
       "1               1.232113             -0.36689             1.472464   \n",
       "2              -1.573586             -0.36689             1.472464   \n",
       "3               1.229721             -0.36689             1.472464   \n",
       "4              -1.506613             -0.36689             1.472464   \n",
       "...                  ...                  ...                  ...   \n",
       "62766           0.593475              2.72561            -0.679134   \n",
       "62767           0.593475              2.72561            -0.679134   \n",
       "62768           0.593475             -0.36689            -0.679134   \n",
       "62769           0.593475             -0.36689            -0.679134   \n",
       "62770           0.600651             -0.36689            -0.679134   \n",
       "\n",
       "       pa_program_declared  hm_program_declared  \n",
       "0                 0.287534             1.189178  \n",
       "1                 0.287534             1.189178  \n",
       "2                 0.287534             1.189178  \n",
       "3                 0.287534             1.189178  \n",
       "4                 0.287534             1.189178  \n",
       "...                    ...                  ...  \n",
       "62766             0.287534             1.189178  \n",
       "62767             0.287534             1.189178  \n",
       "62768             0.287534             1.189178  \n",
       "62769             0.287534             1.189178  \n",
       "62770             0.287534             1.189178  \n",
       "\n",
       "[54451 rows x 9 columns]"
      ]
     },
     "execution_count": 47,
     "metadata": {},
     "output_type": "execute_result"
    }
   ],
   "source": [
    "from sklearn import preprocessing\n",
    "scale=preprocessing.StandardScaler()\n",
    "\n",
    "#columns_to_be_stded = [ 'state' ,'incident_type' ,'declaration_title','declaration_type','designated_area']\n",
    "#all the features (as in X) are taken\n",
    "for column in X.columns:\n",
    "    get_column = X[column]\n",
    "    reshaped_vals = get_column.values.reshape(-1, 1)\n",
    "    X[column] = scale.fit_transform(reshaped_vals)\n",
    "    \n",
    "X"
   ]
  },
  {
   "cell_type": "markdown",
   "id": "d59f87b4",
   "metadata": {},
   "source": [
    "### Normalization"
   ]
  },
  {
   "cell_type": "code",
   "execution_count": 48,
   "id": "f3f0674a",
   "metadata": {},
   "outputs": [
    {
     "data": {
      "text/html": [
       "<div>\n",
       "<style scoped>\n",
       "    .dataframe tbody tr th:only-of-type {\n",
       "        vertical-align: middle;\n",
       "    }\n",
       "\n",
       "    .dataframe tbody tr th {\n",
       "        vertical-align: top;\n",
       "    }\n",
       "\n",
       "    .dataframe thead th {\n",
       "        text-align: right;\n",
       "    }\n",
       "</style>\n",
       "<table border=\"1\" class=\"dataframe\">\n",
       "  <thead>\n",
       "    <tr style=\"text-align: right;\">\n",
       "      <th></th>\n",
       "      <th>state</th>\n",
       "      <th>declaration_type</th>\n",
       "      <th>fy_declared</th>\n",
       "      <th>incident_type</th>\n",
       "      <th>declaration_title</th>\n",
       "      <th>ih_program_declared</th>\n",
       "      <th>ia_program_declared</th>\n",
       "      <th>pa_program_declared</th>\n",
       "      <th>hm_program_declared</th>\n",
       "    </tr>\n",
       "  </thead>\n",
       "  <tbody>\n",
       "    <tr>\n",
       "      <th>0</th>\n",
       "      <td>0.206897</td>\n",
       "      <td>0.0</td>\n",
       "      <td>0.0</td>\n",
       "      <td>0.809524</td>\n",
       "      <td>0.840722</td>\n",
       "      <td>0.0</td>\n",
       "      <td>1.0</td>\n",
       "      <td>1.0</td>\n",
       "      <td>1.0</td>\n",
       "    </tr>\n",
       "    <tr>\n",
       "      <th>1</th>\n",
       "      <td>0.862069</td>\n",
       "      <td>0.0</td>\n",
       "      <td>0.0</td>\n",
       "      <td>0.809524</td>\n",
       "      <td>0.841237</td>\n",
       "      <td>0.0</td>\n",
       "      <td>1.0</td>\n",
       "      <td>1.0</td>\n",
       "      <td>1.0</td>\n",
       "    </tr>\n",
       "    <tr>\n",
       "      <th>2</th>\n",
       "      <td>0.362069</td>\n",
       "      <td>0.0</td>\n",
       "      <td>0.0</td>\n",
       "      <td>0.333333</td>\n",
       "      <td>0.236598</td>\n",
       "      <td>0.0</td>\n",
       "      <td>1.0</td>\n",
       "      <td>1.0</td>\n",
       "      <td>1.0</td>\n",
       "    </tr>\n",
       "    <tr>\n",
       "      <th>3</th>\n",
       "      <td>0.448276</td>\n",
       "      <td>0.0</td>\n",
       "      <td>0.0</td>\n",
       "      <td>0.809524</td>\n",
       "      <td>0.840722</td>\n",
       "      <td>0.0</td>\n",
       "      <td>1.0</td>\n",
       "      <td>1.0</td>\n",
       "      <td>1.0</td>\n",
       "    </tr>\n",
       "    <tr>\n",
       "      <th>4</th>\n",
       "      <td>0.534483</td>\n",
       "      <td>0.0</td>\n",
       "      <td>0.0</td>\n",
       "      <td>0.333333</td>\n",
       "      <td>0.251031</td>\n",
       "      <td>0.0</td>\n",
       "      <td>1.0</td>\n",
       "      <td>1.0</td>\n",
       "      <td>1.0</td>\n",
       "    </tr>\n",
       "    <tr>\n",
       "      <th>...</th>\n",
       "      <td>...</td>\n",
       "      <td>...</td>\n",
       "      <td>...</td>\n",
       "      <td>...</td>\n",
       "      <td>...</td>\n",
       "      <td>...</td>\n",
       "      <td>...</td>\n",
       "      <td>...</td>\n",
       "      <td>...</td>\n",
       "    </tr>\n",
       "    <tr>\n",
       "      <th>62766</th>\n",
       "      <td>0.844828</td>\n",
       "      <td>0.0</td>\n",
       "      <td>1.0</td>\n",
       "      <td>0.809524</td>\n",
       "      <td>0.703608</td>\n",
       "      <td>1.0</td>\n",
       "      <td>0.0</td>\n",
       "      <td>1.0</td>\n",
       "      <td>1.0</td>\n",
       "    </tr>\n",
       "    <tr>\n",
       "      <th>62767</th>\n",
       "      <td>0.844828</td>\n",
       "      <td>0.0</td>\n",
       "      <td>1.0</td>\n",
       "      <td>0.809524</td>\n",
       "      <td>0.703608</td>\n",
       "      <td>1.0</td>\n",
       "      <td>0.0</td>\n",
       "      <td>1.0</td>\n",
       "      <td>1.0</td>\n",
       "    </tr>\n",
       "    <tr>\n",
       "      <th>62768</th>\n",
       "      <td>0.844828</td>\n",
       "      <td>0.0</td>\n",
       "      <td>1.0</td>\n",
       "      <td>0.809524</td>\n",
       "      <td>0.703608</td>\n",
       "      <td>0.0</td>\n",
       "      <td>0.0</td>\n",
       "      <td>1.0</td>\n",
       "      <td>1.0</td>\n",
       "    </tr>\n",
       "    <tr>\n",
       "      <th>62769</th>\n",
       "      <td>0.844828</td>\n",
       "      <td>0.0</td>\n",
       "      <td>1.0</td>\n",
       "      <td>0.809524</td>\n",
       "      <td>0.703608</td>\n",
       "      <td>0.0</td>\n",
       "      <td>0.0</td>\n",
       "      <td>1.0</td>\n",
       "      <td>1.0</td>\n",
       "    </tr>\n",
       "    <tr>\n",
       "      <th>62770</th>\n",
       "      <td>0.000000</td>\n",
       "      <td>0.0</td>\n",
       "      <td>1.0</td>\n",
       "      <td>0.666667</td>\n",
       "      <td>0.705155</td>\n",
       "      <td>0.0</td>\n",
       "      <td>0.0</td>\n",
       "      <td>1.0</td>\n",
       "      <td>1.0</td>\n",
       "    </tr>\n",
       "  </tbody>\n",
       "</table>\n",
       "<p>54451 rows × 9 columns</p>\n",
       "</div>"
      ],
      "text/plain": [
       "          state  declaration_type  fy_declared  incident_type  \\\n",
       "0      0.206897               0.0          0.0       0.809524   \n",
       "1      0.862069               0.0          0.0       0.809524   \n",
       "2      0.362069               0.0          0.0       0.333333   \n",
       "3      0.448276               0.0          0.0       0.809524   \n",
       "4      0.534483               0.0          0.0       0.333333   \n",
       "...         ...               ...          ...            ...   \n",
       "62766  0.844828               0.0          1.0       0.809524   \n",
       "62767  0.844828               0.0          1.0       0.809524   \n",
       "62768  0.844828               0.0          1.0       0.809524   \n",
       "62769  0.844828               0.0          1.0       0.809524   \n",
       "62770  0.000000               0.0          1.0       0.666667   \n",
       "\n",
       "       declaration_title  ih_program_declared  ia_program_declared  \\\n",
       "0               0.840722                  0.0                  1.0   \n",
       "1               0.841237                  0.0                  1.0   \n",
       "2               0.236598                  0.0                  1.0   \n",
       "3               0.840722                  0.0                  1.0   \n",
       "4               0.251031                  0.0                  1.0   \n",
       "...                  ...                  ...                  ...   \n",
       "62766           0.703608                  1.0                  0.0   \n",
       "62767           0.703608                  1.0                  0.0   \n",
       "62768           0.703608                  0.0                  0.0   \n",
       "62769           0.703608                  0.0                  0.0   \n",
       "62770           0.705155                  0.0                  0.0   \n",
       "\n",
       "       pa_program_declared  hm_program_declared  \n",
       "0                      1.0                  1.0  \n",
       "1                      1.0                  1.0  \n",
       "2                      1.0                  1.0  \n",
       "3                      1.0                  1.0  \n",
       "4                      1.0                  1.0  \n",
       "...                    ...                  ...  \n",
       "62766                  1.0                  1.0  \n",
       "62767                  1.0                  1.0  \n",
       "62768                  1.0                  1.0  \n",
       "62769                  1.0                  1.0  \n",
       "62770                  1.0                  1.0  \n",
       "\n",
       "[54451 rows x 9 columns]"
      ]
     },
     "execution_count": 48,
     "metadata": {},
     "output_type": "execute_result"
    }
   ],
   "source": [
    "minmaxscale=preprocessing.MinMaxScaler()\n",
    "for column in X.columns:\n",
    "    get_column = X[column]\n",
    "    reshaped_vals = get_column.values.reshape(-1, 1)\n",
    "    X[column] = minmaxscale.fit_transform(reshaped_vals)\n",
    "    \n",
    "X"
   ]
  },
  {
   "cell_type": "markdown",
   "id": "0661cfa1",
   "metadata": {},
   "source": [
    "## Modeling"
   ]
  },
  {
   "cell_type": "code",
   "execution_count": 49,
   "id": "1cb4c652",
   "metadata": {},
   "outputs": [],
   "source": [
    "# Define independent and dependent variables\n",
    "target_column = df['declaration_type']\n",
    "x=X.drop(['declaration_type'],axis=1)\n",
    "y=target_column.values.reshape(-1,1)"
   ]
  },
  {
   "cell_type": "code",
   "execution_count": 50,
   "id": "e1bdad95",
   "metadata": {},
   "outputs": [],
   "source": [
    "# Splitting the dataset\n",
    "from sklearn.model_selection import train_test_split\n",
    "x_train,x_test,y_train,y_test=train_test_split(x,y,test_size=0.3,random_state=42)"
   ]
  },
  {
   "cell_type": "code",
   "execution_count": 51,
   "id": "16f3d8a4",
   "metadata": {},
   "outputs": [
    {
     "data": {
      "text/plain": [
       "(38115, 8)"
      ]
     },
     "execution_count": 51,
     "metadata": {},
     "output_type": "execute_result"
    }
   ],
   "source": [
    "x_train.shape"
   ]
  },
  {
   "cell_type": "code",
   "execution_count": 52,
   "id": "6cf0e733",
   "metadata": {},
   "outputs": [
    {
     "data": {
      "text/plain": [
       "(38115, 1)"
      ]
     },
     "execution_count": 52,
     "metadata": {},
     "output_type": "execute_result"
    }
   ],
   "source": [
    "y_train.shape"
   ]
  },
  {
   "cell_type": "code",
   "execution_count": 53,
   "id": "c593e214",
   "metadata": {},
   "outputs": [
    {
     "data": {
      "text/plain": [
       "(16336, 8)"
      ]
     },
     "execution_count": 53,
     "metadata": {},
     "output_type": "execute_result"
    }
   ],
   "source": [
    "x_test.shape"
   ]
  },
  {
   "cell_type": "code",
   "execution_count": 54,
   "id": "d8850a43",
   "metadata": {},
   "outputs": [
    {
     "data": {
      "text/plain": [
       "(16336, 1)"
      ]
     },
     "execution_count": 54,
     "metadata": {},
     "output_type": "execute_result"
    }
   ],
   "source": [
    "y_test.shape"
   ]
  },
  {
   "cell_type": "markdown",
   "id": "67d23d5f",
   "metadata": {},
   "source": [
    "### a) Logistic Regression Model"
   ]
  },
  {
   "cell_type": "code",
   "execution_count": 55,
   "id": "c19d8754",
   "metadata": {},
   "outputs": [
    {
     "name": "stdout",
     "output_type": "stream",
     "text": [
      "Accuracy is: 0.8943437806072478\n",
      "Precision is: 0.8943437806072478\n",
      "Recall is: 0.8943437806072478\n",
      "F1 score is: 0.894343780607248\n"
     ]
    }
   ],
   "source": [
    "from sklearn.linear_model import LogisticRegression\n",
    "logistic_model=LogisticRegression()\n",
    "logistic_model.fit(x_train,y_train)\n",
    "y_pred=logistic_model.predict(x_test)\n",
    "\n",
    "from sklearn.metrics import confusion_matrix, accuracy_score, precision_score, recall_score, f1_score\n",
    "print(\"Accuracy is:\",accuracy_score(y_test,y_pred))\n",
    "print(\"Precision is:\",precision_score(y_test,y_pred,average='micro'))\n",
    "print(\"Recall is:\",recall_score(y_test,y_pred,average='micro'))\n",
    "print(\"F1 score is:\",f1_score(y_test,y_pred,average='micro'))"
   ]
  },
  {
   "cell_type": "markdown",
   "id": "7c5a8b87",
   "metadata": {},
   "source": [
    "### b) KNN Model"
   ]
  },
  {
   "cell_type": "code",
   "execution_count": 65,
   "id": "a01d9a02",
   "metadata": {},
   "outputs": [
    {
     "data": {
      "text/plain": [
       "Text(0, 0.5, 'accuracy')"
      ]
     },
     "execution_count": 65,
     "metadata": {},
     "output_type": "execute_result"
    },
    {
     "data": {
      "image/png": "[encoded data removed]",
      "text/plain": [
       "<Figure size 432x288 with 1 Axes>"
      ]
     },
     "metadata": {
      "needs_background": "light"
     },
     "output_type": "display_data"
    }
   ],
   "source": [
    "from sklearn.neighbors import KNeighborsClassifier\n",
    "accuracy_values=[]\n",
    "neighbors=np.arange(3,15)\n",
    "for k in neighbors:\n",
    "    classifier=KNeighborsClassifier(n_neighbors=k,metric='minkowski')\n",
    "    classifier.fit(x_train,y_train)\n",
    "    y_pred=classifier.predict(x_test)\n",
    "    acc=accuracy_score(y_test,y_pred)\n",
    "    accuracy_values.append(acc)\n",
    "    \n",
    "plt.plot(neighbors,accuracy_values,'o-')\n",
    "plt.xlabel('k value')\n",
    "plt.ylabel('accuracy')"
   ]
  },
  {
   "cell_type": "markdown",
   "id": "306f5bde",
   "metadata": {},
   "source": [
    "### KNN Model (with k=3)"
   ]
  },
  {
   "cell_type": "code",
   "execution_count": 58,
   "id": "536400d9",
   "metadata": {},
   "outputs": [
    {
     "name": "stdout",
     "output_type": "stream",
     "text": [
      "Accuracy is: 0.9955313418217434\n",
      "Precision is: 0.9955313418217434\n",
      "Recall is: 0.9955313418217434\n",
      "F1 score is: 0.9955313418217434\n"
     ]
    }
   ],
   "source": [
    "classifier=KNeighborsClassifier(n_neighbors=3,metric='minkowski')\n",
    "classifier.fit(x_train,y_train)\n",
    "y_pred=classifier.predict(x_test)\n",
    "\n",
    "print(\"Accuracy is:\",accuracy_score(y_test,y_pred))\n",
    "print(\"Precision is:\",precision_score(y_test,y_pred,average='micro'))\n",
    "print(\"Recall is:\",recall_score(y_test,y_pred,average='micro'))\n",
    "print(\"F1 score is:\",f1_score(y_test,y_pred,average='micro'))"
   ]
  },
  {
   "cell_type": "markdown",
   "id": "d49702f6",
   "metadata": {},
   "source": [
    "### c) Decision Tree Classifier"
   ]
  },
  {
   "cell_type": "code",
   "execution_count": 63,
   "id": "21ab7013",
   "metadata": {},
   "outputs": [
    {
     "name": "stdout",
     "output_type": "stream",
     "text": [
      "Accuracy is: 0.9979187071498531\n",
      "Precision is: 0.9979187071498531\n",
      "Recall is: 0.9979187071498531\n",
      "F1 score is: 0.9979187071498531\n"
     ]
    },
    {
     "data": {
      "text/plain": [
       "array([[11527,    14,     2],\n",
       "       [   16,  4430,     0],\n",
       "       [    2,     0,   345]], dtype=int64)"
      ]
     },
     "execution_count": 63,
     "metadata": {},
     "output_type": "execute_result"
    }
   ],
   "source": [
    "from sklearn.tree import DecisionTreeClassifier\n",
    "dt_model=DecisionTreeClassifier()\n",
    "dt_model.fit(x_train,y_train)\n",
    "y_pred=dt_model.predict(x_test)\n",
    "\n",
    "print(\"Accuracy is:\",accuracy_score(y_test,y_pred))\n",
    "print(\"Precision is:\",precision_score(y_test,y_pred,average='micro'))\n",
    "print(\"Recall is:\",recall_score(y_test,y_pred,average='micro'))\n",
    "print(\"F1 score is:\",f1_score(y_test,y_pred,average='micro'))\n",
    "confusion_matrix(y_test,y_pred)"
   ]
  },
  {
   "cell_type": "markdown",
   "id": "2f9f8d53",
   "metadata": {},
   "source": [
    "### d) Linear SVM"
   ]
  },
  {
   "cell_type": "code",
   "execution_count": 61,
   "id": "82176380",
   "metadata": {},
   "outputs": [
    {
     "name": "stdout",
     "output_type": "stream",
     "text": [
      "Accuracy is: 0.9067703232125367\n",
      "Precision is: 0.9067703232125367\n",
      "Recall is: 0.9067703232125367\n",
      "F1 score is: 0.9067703232125367\n"
     ]
    }
   ],
   "source": [
    "from sklearn.svm import SVC\n",
    "svm_linear=SVC(kernel='linear')\n",
    "svm_linear.fit(x_train,y_train)\n",
    "y_pred=svm_linear.predict(x_test)\n",
    "\n",
    "print(\"Accuracy is:\",accuracy_score(y_test,y_pred))\n",
    "print(\"Precision is:\",precision_score(y_test,y_pred,average='micro'))\n",
    "print(\"Recall is:\",recall_score(y_test,y_pred,average='micro'))\n",
    "print(\"F1 score is:\",f1_score(y_test,y_pred,average='micro'))"
   ]
  },
  {
   "cell_type": "markdown",
   "id": "fe50bb0b",
   "metadata": {},
   "source": [
    "### Polynomial SVM"
   ]
  },
  {
   "cell_type": "code",
   "execution_count": 64,
   "id": "9210bd34",
   "metadata": {},
   "outputs": [
    {
     "name": "stdout",
     "output_type": "stream",
     "text": [
      "Accuracy is: 0.949498041136141\n",
      "Precision is: 0.949498041136141\n",
      "Recall is: 0.949498041136141\n",
      "F1 score is: 0.949498041136141\n"
     ]
    },
    {
     "data": {
      "text/plain": [
       "array([[11313,   212,    18],\n",
       "       [  402,  3985,    59],\n",
       "       [   16,   118,   213]], dtype=int64)"
      ]
     },
     "execution_count": 64,
     "metadata": {},
     "output_type": "execute_result"
    }
   ],
   "source": [
    "svm_poly=SVC(kernel='poly',degree=3)\n",
    "svm_poly.fit(x_train,y_train)\n",
    "y_pred=svm_poly.predict(x_test)\n",
    "\n",
    "print(\"Accuracy is:\",accuracy_score(y_test,y_pred))\n",
    "print(\"Precision is:\",precision_score(y_test,y_pred,average='micro'))\n",
    "print(\"Recall is:\",recall_score(y_test,y_pred,average='micro'))\n",
    "print(\"F1 score is:\",f1_score(y_test,y_pred,average='micro'))\n",
    "confusion_matrix(y_test,y_pred)"
   ]
  },
  {
   "cell_type": "markdown",
   "id": "67f616f2",
   "metadata": {},
   "source": [
    "### Radial SVM"
   ]
  },
  {
   "cell_type": "code",
   "execution_count": 66,
   "id": "fe844637",
   "metadata": {},
   "outputs": [
    {
     "name": "stdout",
     "output_type": "stream",
     "text": [
      "Accuracy is: 0.948396180215475\n",
      "Precision is: 0.948396180215475\n",
      "Recall is: 0.948396180215475\n",
      "F1 score is: 0.948396180215475\n"
     ]
    }
   ],
   "source": [
    "svm_radial=SVC(kernel='rbf')\n",
    "svm_radial.fit(x_train,y_train)\n",
    "y_pred=svm_radial.predict(x_test)\n",
    "\n",
    "print(\"Accuracy is:\",accuracy_score(y_test,y_pred))\n",
    "print(\"Precision is:\",precision_score(y_test,y_pred,average='micro'))\n",
    "print(\"Recall is:\",recall_score(y_test,y_pred,average='micro'))\n",
    "print(\"F1 score is:\",f1_score(y_test,y_pred,average='micro'))"
   ]
  },
  {
   "cell_type": "markdown",
   "id": "eb9863ce",
   "metadata": {},
   "source": [
    "### e) RandomForest Classifier"
   ]
  },
  {
   "cell_type": "code",
   "execution_count": 67,
   "id": "c7725e96",
   "metadata": {},
   "outputs": [
    {
     "name": "stdout",
     "output_type": "stream",
     "text": [
      "Accuracy is: 0.9981023506366308\n",
      "Precision is: 0.9981023506366308\n",
      "Recall is: 0.9981023506366308\n",
      "F1 score is: 0.9981023506366308\n"
     ]
    },
    {
     "data": {
      "text/plain": [
       "array([[11530,    13,     0],\n",
       "       [   16,  4430,     0],\n",
       "       [    0,     2,   345]], dtype=int64)"
      ]
     },
     "execution_count": 67,
     "metadata": {},
     "output_type": "execute_result"
    }
   ],
   "source": [
    "from sklearn.ensemble import RandomForestClassifier\n",
    "rf= RandomForestClassifier()\n",
    "rf.fit(x_train,y_train)\n",
    "y_pred=rf.predict(x_test)\n",
    "\n",
    "print(\"Accuracy is:\",accuracy_score(y_test,y_pred))\n",
    "print(\"Precision is:\",precision_score(y_test,y_pred,average='micro'))\n",
    "print(\"Recall is:\",recall_score(y_test,y_pred,average='micro'))\n",
    "print(\"F1 score is:\",f1_score(y_test,y_pred,average='micro'))\n",
    "confusion_matrix(y_test,y_pred)"
   ]
  },
  {
   "cell_type": "markdown",
   "id": "dd697d1b",
   "metadata": {},
   "source": [
    "### Model Fine Tuning"
   ]
  },
  {
   "cell_type": "code",
   "execution_count": 68,
   "id": "c349d6a1",
   "metadata": {},
   "outputs": [
    {
     "name": "stdout",
     "output_type": "stream",
     "text": [
      "Parameters currently in use:\n",
      "\n",
      "{'bootstrap': True, 'ccp_alpha': 0.0, 'class_weight': None, 'criterion': 'gini', 'max_depth': None, 'max_features': 'auto', 'max_leaf_nodes': None, 'max_samples': None, 'min_impurity_decrease': 0.0, 'min_impurity_split': None, 'min_samples_leaf': 1, 'min_samples_split': 2, 'min_weight_fraction_leaf': 0.0, 'n_estimators': 100, 'n_jobs': None, 'oob_score': False, 'random_state': None, 'verbose': 0, 'warm_start': False}\n",
      "ACCURACY of the model:  0.9087291870714985\n",
      "F - score of the model:  0.9087291870714985\n",
      "Precision score of the model:  0.9087291870714985\n",
      "Recall score of the model:  0.9087291870714985\n",
      "Confuion Matrix \n",
      " [[10487  1056     0]\n",
      " [   88  4358     0]\n",
      " [   72   275     0]]\n"
     ]
    }
   ],
   "source": [
    "from sklearn.linear_model import LogisticRegression\n",
    "print('Parameters currently in use:\\n')\n",
    "print(rf.get_params())\n",
    "\n",
    "# Fine tuning the hyper parameters of the model\n",
    "from sklearn.model_selection import GridSearchCV\n",
    "param_grid = {'C': [0.001, 0.01, 0.1, 1, 10, 100, 1000] }\n",
    "clf = GridSearchCV(LogisticRegression(penalty='l2'), param_grid)\n",
    "logic_fine_tuning=GridSearchCV(cv=None,\n",
    "             estimator=LogisticRegression(C=1.0, intercept_scaling=1,   \n",
    "               dual=False, fit_intercept=True, penalty='l2', tol=0.0001),\n",
    "             param_grid={'C': [0.001, 0.01, 0.1, 1, 10, 100, 1000]})\n",
    "\n",
    "logic_fine_tuning.fit(x_train,y_train)\n",
    "y_pred=logic_fine_tuning.predict(x_test)\n",
    "\n",
    "# using metrics module for accuracy calculation\n",
    "print(\"ACCURACY of the model: \", accuracy_score(y_test, y_pred))\n",
    "print(\"F - score of the model: \", f1_score(y_test, y_pred,average='micro'))\n",
    "print(\"Precision score of the model: \", precision_score(y_test, y_pred,average='micro'))\n",
    "print(\"Recall score of the model: \", recall_score(y_test, y_pred,average='micro'))\n",
    "print(\"Confuion Matrix \\n\", confusion_matrix(y_test, y_pred))"
   ]
  },
  {
   "cell_type": "code",
   "execution_count": null,
   "id": "b393568b",
   "metadata": {},
   "outputs": [],
   "source": []
  }
 ],
 "metadata": {
  "kernelspec": {
   "display_name": "Python 3",
   "language": "python",
   "name": "python3"
  },
  "language_info": {
   "codemirror_mode": {
    "name": "ipython",
    "version": 3
   },
   "file_extension": ".py",
   "mimetype": "text/x-python",
   "name": "python",
   "nbconvert_exporter": "python",
   "pygments_lexer": "ipython3",
   "version": "3.8.8"
  }
 },
 "nbformat": 4,
 "nbformat_minor": 5
}
