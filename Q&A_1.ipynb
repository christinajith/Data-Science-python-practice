{
  "nbformat": 4,
  "nbformat_minor": 0,
  "metadata": {
    "colab": {
      "name": "Q&A.ipynb",
      "provenance": [],
      "collapsed_sections": []
    },
    "kernelspec": {
      "display_name": "Python 3",
      "language": "python",
      "name": "python3"
    },
    "language_info": {
      "codemirror_mode": {
        "name": "ipython",
        "version": 3
      },
      "file_extension": ".py",
      "mimetype": "text/x-python",
      "name": "python",
      "nbconvert_exporter": "python",
      "pygments_lexer": "ipython3",
      "version": "3.8.8"
    }
  },
  "cells": [
    {
      "cell_type": "markdown",
      "metadata": {
        "id": "4z_Z-K1tlrS7"
      },
      "source": [
        "## 1. Complete the following code to find the area of an equilateral triangle. Output should be as displayed"
      ]
    },
    {
      "cell_type": "code",
      "metadata": {
        "id": "rP2qFD_SlrS_",
        "colab": {
          "base_uri": "https://localhost:8080/"
        },
        "outputId": "4e1f95b7-2ff1-4dcc-be06-88ea1e10bfde"
      },
      "source": [
        "import math\n",
        "side = float(input(\"Enter the side of the equilateral triangle: \"))\n",
        "area = ((math.sqrt(3))/4)*pow(side,2)\n",
        "print(\"The area of the equilateral triangle is\", area)\n"
      ],
      "execution_count": null,
      "outputs": [
        {
          "output_type": "stream",
          "name": "stdout",
          "text": [
            "Enter the side of the equilateral triangle: 4\n",
            "The area of the equilateral triangle is 6.928203230275509\n"
          ]
        }
      ]
    },
    {
      "cell_type": "markdown",
      "metadata": {
        "id": "TjVKjIfclrTB"
      },
      "source": [
        "## 2. Write a program to count the number of each characters in a string"
      ]
    },
    {
      "cell_type": "code",
      "metadata": {
        "id": "JY5seVUQlrTC",
        "outputId": "2dc7a58a-c7fa-4eeb-af19-87330f544a5b"
      },
      "source": [
        "a=str(input(\"Enter a string:\"))\n",
        "b=len(a)\n",
        "print(\"The number of characters in the string is\", b)"
      ],
      "execution_count": null,
      "outputs": [
        {
          "name": "stdout",
          "output_type": "stream",
          "text": [
            "Enter a string:python\n",
            "The number of characters in the string is 6\n"
          ]
        }
      ]
    },
    {
      "cell_type": "code",
      "metadata": {
        "colab": {
          "base_uri": "https://localhost:8080/"
        },
        "id": "aZC0wCxO0YLt",
        "outputId": "147d88f2-8133-4e2f-8b75-a316f2ef7517"
      },
      "source": [
        "newstr=str(input('enter a string')).strip()\n",
        "new_word=[]\n",
        "for i in newstr:\n",
        "    if i not in new_word:\n",
        "      new_word.append(i)\n",
        "      print(i,\"occured\",newstr.count(i),\"times\")"
      ],
      "execution_count": null,
      "outputs": [
        {
          "output_type": "stream",
          "name": "stdout",
          "text": [
            "enter a stringmalayalam\n",
            "m occured 2 times\n",
            "a occured 4 times\n",
            "l occured 2 times\n",
            "y occured 1 times\n"
          ]
        }
      ]
    },
    {
      "cell_type": "markdown",
      "metadata": {
        "id": "l3LCULfklrTD"
      },
      "source": [
        "## Write a program to find the area and perimeter of a rectangle using functions"
      ]
    },
    {
      "cell_type": "code",
      "metadata": {
        "id": "8haQD8edlrTD",
        "colab": {
          "base_uri": "https://localhost:8080/"
        },
        "outputId": "5ea8589b-4122-4172-fdca-435542942fc0"
      },
      "source": [
        "def rectangle_area(l,b):\n",
        "    area = l*b\n",
        "    print(\"The area of the rectangle is\",area)\n",
        "def rectangle_perimeter(l,b):\n",
        "    perimeter = 2*(l+b)\n",
        "    print(\"The perimeter of the rectangle is\",perimeter)\n",
        "l = int(input(\"Enter the length of the rectangle: \"))\n",
        "b = int(input(\"Enter the breadth of the rectangle: \"))\n",
        "rectangle_area(l,b)\n",
        "rectangle_perimeter(l,b)"
      ],
      "execution_count": null,
      "outputs": [
        {
          "output_type": "stream",
          "name": "stdout",
          "text": [
            "Enter the length of the rectangle: 5\n",
            "Enter the breadth of the rectangle: 4\n",
            "The area of the rectangle is 20\n",
            "The perimeter of the rectangle is 18\n"
          ]
        }
      ]
    },
    {
      "cell_type": "markdown",
      "metadata": {
        "id": "JHK4ZdsflrTE"
      },
      "source": [
        "## 4. Write a program to print the fibonacci series till a specified number"
      ]
    },
    {
      "cell_type": "code",
      "metadata": {
        "colab": {
          "base_uri": "https://localhost:8080/"
        },
        "id": "32q8lsmKyRkB",
        "outputId": "72103775-10d4-412d-dd12-f7e763c50a66"
      },
      "source": [
        "n=int(input(\"Enter the specified number:\"))\n",
        "a=0\n",
        "b=1\n",
        "sum=0\n",
        "count=1\n",
        "print(\"Fibonacci series: \", end = \"\")\n",
        "while count<=n:\n",
        "    print(sum, end = \"\")\n",
        "    count+=1\n",
        "    a=b\n",
        "    b=sum\n",
        "    sum=a+b\n",
        "\n"
      ],
      "execution_count": null,
      "outputs": [
        {
          "output_type": "stream",
          "name": "stdout",
          "text": [
            "Enter the specified number:5\n",
            "Fibonacci series: 01123"
          ]
        }
      ]
    },
    {
      "cell_type": "markdown",
      "metadata": {
        "id": "u4uBUcQKlrTE"
      },
      "source": [
        "## 5. Complete the following code to find the minimum of 3 number using cinditional statements. Output should be as displayed"
      ]
    },
    {
      "cell_type": "code",
      "metadata": {
        "colab": {
          "base_uri": "https://localhost:8080/"
        },
        "id": "JTGyfs05_M8K",
        "outputId": "42d2f0aa-eac6-484e-cdfd-e3490795443b"
      },
      "source": [
        "a,b,c = map(int,input(\"Enter three numbers followed by  : \").split())\n",
        "\n",
        "print(\"First number :\",a)\n",
        "print(\"Second number :\",b)\n",
        "print(\"Third number :\",c)\n",
        "if (a==b==c):\n",
        "    print(\"Entered numbers are equal!!!\")\n",
        "else:\n",
        "    if (a<b and a<c):\n",
        "        print(a,\" is smallest\")\n",
        "    elif (b<a and b<c):\n",
        "        print(b,\" is smallest\")\n",
        "    else:\n",
        "        print(c,\" is smallest\")"
      ],
      "execution_count": 7,
      "outputs": [
        {
          "output_type": "stream",
          "name": "stdout",
          "text": [
            "Enter three numbers followed by  : 2 34 100\n",
            "First number : 2\n",
            "Second number : 34\n",
            "Third number : 100\n",
            "2  is smallest\n"
          ]
        }
      ]
    },
    {
      "cell_type": "markdown",
      "metadata": {
        "id": "aR_CnToWlrTG"
      },
      "source": [
        "## 6. Write a program to print star pyramind. The number of rows should be taken as input from the user"
      ]
    },
    {
      "cell_type": "code",
      "metadata": {
        "id": "M37A-buplrTG",
        "colab": {
          "base_uri": "https://localhost:8080/"
        },
        "outputId": "b6ecaa28-b652-470a-ae30-6e3414918658"
      },
      "source": [
        "n = int(input(\"Enter the number of rows:\"))\n",
        "for i in range(0,n):\n",
        "    for j in range(0,i+1):\n",
        "        print(\"*\", end=\"\") \n",
        "\n",
        "    print()    "
      ],
      "execution_count": null,
      "outputs": [
        {
          "output_type": "stream",
          "name": "stdout",
          "text": [
            "Enter the number of rows:5\n",
            "*\n",
            "**\n",
            "***\n",
            "****\n",
            "*****\n"
          ]
        }
      ]
    },
    {
      "cell_type": "markdown",
      "metadata": {
        "id": "tlY6aFWBlrTH"
      },
      "source": [
        "## 7. Complete the following code to convert hour into seconds. Output should be as displayed"
      ]
    },
    {
      "cell_type": "code",
      "metadata": {
        "id": "YOZQFk7FlrTH",
        "colab": {
          "base_uri": "https://localhost:8080/"
        },
        "outputId": "a9718758-e77a-48e7-ffe8-aa58c83526fe"
      },
      "source": [
        "def to_seconds(t):\n",
        "    t = t*3600\n",
        "    return t\n",
        "time_in_hours = int(input(\"Enter the value of hours:\"))\n",
        "print(time_in_hours ,\" Hour is equal to\" ,to_seconds(time_in_hours) ,\" Seconds\")"
      ],
      "execution_count": null,
      "outputs": [
        {
          "output_type": "stream",
          "name": "stdout",
          "text": [
            "Enter the value of hours:5\n",
            "5  Hour is equal to 18000  Seconds\n"
          ]
        }
      ]
    },
    {
      "cell_type": "markdown",
      "metadata": {
        "id": "CnYorNiLlrTI"
      },
      "source": [
        "## 8. Write a program to print multiplication table as below"
      ]
    },
    {
      "cell_type": "code",
      "metadata": {
        "id": "dPQqDPuDlrTI",
        "colab": {
          "base_uri": "https://localhost:8080/"
        },
        "outputId": "08d72240-a03c-4afa-e3ea-78ea2428dde4"
      },
      "source": [
        "num=int(input(\"Enter a number:\"))\n",
        "for i in range(1,11):\n",
        "    print(num,'x',i,'=',num*i)"
      ],
      "execution_count": null,
      "outputs": [
        {
          "output_type": "stream",
          "name": "stdout",
          "text": [
            "Enter a number:5\n",
            "5 x 1 = 5\n",
            "5 x 2 = 10\n",
            "5 x 3 = 15\n",
            "5 x 4 = 20\n",
            "5 x 5 = 25\n",
            "5 x 6 = 30\n",
            "5 x 7 = 35\n",
            "5 x 8 = 40\n",
            "5 x 9 = 45\n",
            "5 x 10 = 50\n"
          ]
        }
      ]
    },
    {
      "cell_type": "markdown",
      "metadata": {
        "id": "Fiaez8iblrTI"
      },
      "source": [
        "## 9. Write a program to take your 5 favorite food as list and print each as 'I like Biriyani'"
      ]
    },
    {
      "cell_type": "code",
      "metadata": {
        "id": "39W1zFX7lrTJ",
        "colab": {
          "base_uri": "https://localhost:8080/"
        },
        "outputId": "c3899f59-0ac4-440b-855b-7912fae702e6"
      },
      "source": [
        "fav_food =[]\n",
        "for i in range (0,5):\n",
        "    food_list=str(input(\"Enter name of favorite food: \"))\n",
        "    fav_food.append(food_list)\n",
        "print(fav_food)\n",
        "for i in range (0,5):\n",
        "    print('I like', fav_food[i])\n"
      ],
      "execution_count": null,
      "outputs": [
        {
          "output_type": "stream",
          "name": "stdout",
          "text": [
            "Enter name of favorite food: Biriyani\n",
            "Enter name of favorite food: Fried Rice \n",
            "Enter name of favorite food: Pasta\n",
            "Enter name of favorite food: Pizza\n",
            "Enter name of favorite food: Soup\n",
            "['Biriyani', 'Fried Rice ', 'Pasta', 'Pizza', 'Soup']\n",
            "I like Biriyani\n",
            "I like Fried Rice \n",
            "I like Pasta\n",
            "I like Pizza\n",
            "I like Soup\n"
          ]
        }
      ]
    },
    {
      "cell_type": "markdown",
      "metadata": {
        "id": "3vlcDNNEP7d_"
      },
      "source": [
        "## 10. Find error(s) in the following code(if any) and rewrite code.\n",
        "\n"
      ]
    },
    {
      "cell_type": "code",
      "metadata": {
        "id": "coREkcY3P9sG",
        "colab": {
          "base_uri": "https://localhost:8080/"
        },
        "outputId": "64f5ae16-e0f7-4f08-e8ab-e582d906a5f0"
      },
      "source": [
        "x= int(input(\"Enter value of x:\"))\n",
        "for y in range (0,10):\n",
        "     if x==y:\n",
        "          print(\"They are equal\")\n",
        "     else:\n",
        "         print( \"They are unequal\")"
      ],
      "execution_count": null,
      "outputs": [
        {
          "output_type": "stream",
          "name": "stdout",
          "text": [
            "Enter value of x:2\n",
            "They are unequal\n",
            "They are unequal\n",
            "They are equal\n",
            "They are unequal\n",
            "They are unequal\n",
            "They are unequal\n",
            "They are unequal\n",
            "They are unequal\n",
            "They are unequal\n",
            "They are unequal\n"
          ]
        }
      ]
    }
  ]
}