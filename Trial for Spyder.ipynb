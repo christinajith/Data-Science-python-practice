{
 "cells": [
  {
   "cell_type": "code",
   "execution_count": 1,
   "id": "ef36a2de",
   "metadata": {},
   "outputs": [],
   "source": [
    "import numpy as np\n",
    "import pandas as pd\n",
    "import pickle"
   ]
  },
  {
   "cell_type": "code",
   "execution_count": 2,
   "id": "ba1a36dd",
   "metadata": {},
   "outputs": [
    {
     "data": {
      "text/plain": [
       "Index(['fema_declaration_string', 'disaster_number', 'state',\n",
       "       'declaration_type', 'declaration_date', 'fy_declared', 'incident_type',\n",
       "       'declaration_title', 'ih_program_declared', 'ia_program_declared',\n",
       "       'pa_program_declared', 'hm_program_declared', 'incident_begin_date',\n",
       "       'incident_end_date', 'fips', 'place_code', 'designated_area',\n",
       "       'declaration_request_number', 'hash', 'last_refresh', 'id'],\n",
       "      dtype='object')"
      ]
     },
     "execution_count": 2,
     "metadata": {},
     "output_type": "execute_result"
    }
   ],
   "source": [
    "df=pd.read_csv('encoded_disaster.csv')\n",
    "\n",
    "#df=df.loc[:, ~df.columns.isin(['declaration_date', 'incident_begin_date','incident_end_date','disaster_closeout_date','last_refresh','fips','place_code','designated_area','hash','id'])]\n",
    "df.columns\n"
   ]
  },
  {
   "cell_type": "code",
   "execution_count": 3,
   "id": "96367c7a",
   "metadata": {},
   "outputs": [],
   "source": [
    "X=df.drop(['fema_declaration_string','disaster_number','declaration_date','declaration_title'],axis=1)"
   ]
  },
  {
   "cell_type": "code",
   "execution_count": 4,
   "id": "c7a216a1",
   "metadata": {},
   "outputs": [],
   "source": [
    "X=X.drop(['ih_program_declared','ia_program_declared','pa_program_declared','hm_program_declared'],axis=1)"
   ]
  },
  {
   "cell_type": "code",
   "execution_count": 5,
   "id": "782d2d8c",
   "metadata": {},
   "outputs": [],
   "source": [
    "X=X.drop(['incident_begin_date','incident_end_date','fips','place_code','designated_area'],axis=1)"
   ]
  },
  {
   "cell_type": "code",
   "execution_count": 6,
   "id": "b65c1fd3",
   "metadata": {},
   "outputs": [],
   "source": [
    "X=X.drop(['declaration_request_number', 'hash', 'last_refresh', 'id'],axis=1)"
   ]
  },
  {
   "cell_type": "code",
   "execution_count": 7,
   "id": "92be86fa",
   "metadata": {},
   "outputs": [
    {
     "data": {
      "text/plain": [
       "(54451, 4)"
      ]
     },
     "execution_count": 7,
     "metadata": {},
     "output_type": "execute_result"
    }
   ],
   "source": [
    "X.shape"
   ]
  },
  {
   "cell_type": "code",
   "execution_count": 8,
   "id": "69b1b1ad",
   "metadata": {},
   "outputs": [
    {
     "data": {
      "text/html": [
       "<div>\n",
       "<style scoped>\n",
       "    .dataframe tbody tr th:only-of-type {\n",
       "        vertical-align: middle;\n",
       "    }\n",
       "\n",
       "    .dataframe tbody tr th {\n",
       "        vertical-align: top;\n",
       "    }\n",
       "\n",
       "    .dataframe thead th {\n",
       "        text-align: right;\n",
       "    }\n",
       "</style>\n",
       "<table border=\"1\" class=\"dataframe\">\n",
       "  <thead>\n",
       "    <tr style=\"text-align: right;\">\n",
       "      <th></th>\n",
       "      <th>state</th>\n",
       "      <th>declaration_type</th>\n",
       "      <th>fy_declared</th>\n",
       "      <th>incident_type</th>\n",
       "    </tr>\n",
       "  </thead>\n",
       "  <tbody>\n",
       "    <tr>\n",
       "      <th>0</th>\n",
       "      <td>12.0</td>\n",
       "      <td>0.0</td>\n",
       "      <td>1977</td>\n",
       "      <td>17.0</td>\n",
       "    </tr>\n",
       "    <tr>\n",
       "      <th>1</th>\n",
       "      <td>50.0</td>\n",
       "      <td>0.0</td>\n",
       "      <td>1977</td>\n",
       "      <td>17.0</td>\n",
       "    </tr>\n",
       "    <tr>\n",
       "      <th>2</th>\n",
       "      <td>21.0</td>\n",
       "      <td>0.0</td>\n",
       "      <td>1977</td>\n",
       "      <td>7.0</td>\n",
       "    </tr>\n",
       "    <tr>\n",
       "      <th>3</th>\n",
       "      <td>26.0</td>\n",
       "      <td>0.0</td>\n",
       "      <td>1977</td>\n",
       "      <td>17.0</td>\n",
       "    </tr>\n",
       "    <tr>\n",
       "      <th>4</th>\n",
       "      <td>31.0</td>\n",
       "      <td>0.0</td>\n",
       "      <td>1977</td>\n",
       "      <td>7.0</td>\n",
       "    </tr>\n",
       "    <tr>\n",
       "      <th>...</th>\n",
       "      <td>...</td>\n",
       "      <td>...</td>\n",
       "      <td>...</td>\n",
       "      <td>...</td>\n",
       "    </tr>\n",
       "    <tr>\n",
       "      <th>54446</th>\n",
       "      <td>49.0</td>\n",
       "      <td>0.0</td>\n",
       "      <td>2022</td>\n",
       "      <td>17.0</td>\n",
       "    </tr>\n",
       "    <tr>\n",
       "      <th>54447</th>\n",
       "      <td>49.0</td>\n",
       "      <td>0.0</td>\n",
       "      <td>2022</td>\n",
       "      <td>17.0</td>\n",
       "    </tr>\n",
       "    <tr>\n",
       "      <th>54448</th>\n",
       "      <td>49.0</td>\n",
       "      <td>0.0</td>\n",
       "      <td>2022</td>\n",
       "      <td>17.0</td>\n",
       "    </tr>\n",
       "    <tr>\n",
       "      <th>54449</th>\n",
       "      <td>49.0</td>\n",
       "      <td>0.0</td>\n",
       "      <td>2022</td>\n",
       "      <td>17.0</td>\n",
       "    </tr>\n",
       "    <tr>\n",
       "      <th>54450</th>\n",
       "      <td>0.0</td>\n",
       "      <td>0.0</td>\n",
       "      <td>2022</td>\n",
       "      <td>14.0</td>\n",
       "    </tr>\n",
       "  </tbody>\n",
       "</table>\n",
       "<p>54451 rows × 4 columns</p>\n",
       "</div>"
      ],
      "text/plain": [
       "       state  declaration_type  fy_declared  incident_type\n",
       "0       12.0               0.0         1977           17.0\n",
       "1       50.0               0.0         1977           17.0\n",
       "2       21.0               0.0         1977            7.0\n",
       "3       26.0               0.0         1977           17.0\n",
       "4       31.0               0.0         1977            7.0\n",
       "...      ...               ...          ...            ...\n",
       "54446   49.0               0.0         2022           17.0\n",
       "54447   49.0               0.0         2022           17.0\n",
       "54448   49.0               0.0         2022           17.0\n",
       "54449   49.0               0.0         2022           17.0\n",
       "54450    0.0               0.0         2022           14.0\n",
       "\n",
       "[54451 rows x 4 columns]"
      ]
     },
     "execution_count": 8,
     "metadata": {},
     "output_type": "execute_result"
    }
   ],
   "source": [
    "#encoding\n",
    "from sklearn.preprocessing import OrdinalEncoder\n",
    "columns_to_be_encoded = [ 'state','incident_type' ,'declaration_type']\n",
    "\n",
    "for column in columns_to_be_encoded:\n",
    "    # Create Ordinal encoder\n",
    "    encoder = OrdinalEncoder()\n",
    "    get_column = X[column]\n",
    "    reshaped_vals = get_column.values.reshape(-1, 1)\n",
    "    # Ordinally encode reshaped_vals\n",
    "    X[column] = encoder.fit_transform(reshaped_vals)\n",
    "    \n",
    "#df.to_csv('check_disaster_data.csv', index=False)\n",
    "\n",
    "X"
   ]
  },
  {
   "cell_type": "code",
   "execution_count": 9,
   "id": "4265cfb7",
   "metadata": {},
   "outputs": [
    {
     "data": {
      "text/plain": [
       "0        0.0\n",
       "1        0.0\n",
       "2        0.0\n",
       "3        0.0\n",
       "4        0.0\n",
       "        ... \n",
       "54446    0.0\n",
       "54447    0.0\n",
       "54448    0.0\n",
       "54449    0.0\n",
       "54450    0.0\n",
       "Name: declaration_type, Length: 54451, dtype: float64"
      ]
     },
     "execution_count": 9,
     "metadata": {},
     "output_type": "execute_result"
    }
   ],
   "source": [
    "X['declaration_type']"
   ]
  },
  {
   "cell_type": "code",
   "execution_count": 10,
   "id": "715d031d",
   "metadata": {},
   "outputs": [
    {
     "name": "stdout",
     "output_type": "stream",
     "text": [
      "(38115, 3) (16336, 3) (38115,) (16336,)\n"
     ]
    }
   ],
   "source": [
    "from sklearn.model_selection import train_test_split\n",
    "#Split the Data into Training and Testing sets with test size as 30%\n",
    "\n",
    "y=X['declaration_type']\n",
    "#y=target_column.values.reshape(-1,1)\n",
    "x=X.drop(['declaration_type'],axis=1)\n",
    "\n",
    "x_train, x_test, y_train, y_test = train_test_split(x,y,test_size=0.3,random_state=42)\n",
    "print(x_train.shape,x_test.shape,y_train.shape,y_test.shape)"
   ]
  },
  {
   "cell_type": "code",
   "execution_count": 13,
   "id": "b49d1377",
   "metadata": {},
   "outputs": [
    {
     "name": "stdout",
     "output_type": "stream",
     "text": [
      "[0.]\n"
     ]
    }
   ],
   "source": [
    "from sklearn.tree import DecisionTreeClassifier\n",
    "from sklearn.metrics import accuracy_score,confusion_matrix,precision_score,recall_score,f1_score\n",
    "\n",
    "dt_model=DecisionTreeClassifier(random_state=0)\n",
    "dt_model.fit(x_train,y_train)\n",
    "#pickle.dump(dt_model,open('disaster_model.pickle','wb'))\n",
    "print(dt_model.predict([[12.0, 1977, 17.0]]))"
   ]
  },
  {
   "cell_type": "code",
   "execution_count": null,
   "id": "bed6633f",
   "metadata": {},
   "outputs": [],
   "source": []
  }
 ],
 "metadata": {
  "kernelspec": {
   "display_name": "Python 3",
   "language": "python",
   "name": "python3"
  },
  "language_info": {
   "codemirror_mode": {
    "name": "ipython",
    "version": 3
   },
   "file_extension": ".py",
   "mimetype": "text/x-python",
   "name": "python",
   "nbconvert_exporter": "python",
   "pygments_lexer": "ipython3",
   "version": "3.8.8"
  }
 },
 "nbformat": 4,
 "nbformat_minor": 5
}
